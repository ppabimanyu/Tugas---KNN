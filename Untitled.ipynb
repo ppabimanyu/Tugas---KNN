{
 "cells": [
  {
   "cell_type": "code",
   "execution_count": 3,
   "id": "ec6bfee6",
   "metadata": {},
   "outputs": [],
   "source": [
    "import numpy as np\n",
    "import pandas as pd\n",
    "\n",
    "from sklearn.model_selection import train_test_split\n",
    "from sklearn.pipeline import Pipeline\n",
    "from sklearn.compose import ColumnTransformer\n",
    "\n",
    "from jcopml.pipeline import num_pipe, cat_pipe\n",
    "from jcopml.utils import save_model, load_model\n",
    "from jcopml.plot import plot_missing_value\n",
    "from jcopml.feature_importance import mean_score_decrease"
   ]
  },
  {
   "cell_type": "code",
   "execution_count": 4,
   "id": "2758722b",
   "metadata": {},
   "outputs": [
    {
     "data": {
      "text/html": [
       "<div>\n",
       "<style scoped>\n",
       "    .dataframe tbody tr th:only-of-type {\n",
       "        vertical-align: middle;\n",
       "    }\n",
       "\n",
       "    .dataframe tbody tr th {\n",
       "        vertical-align: top;\n",
       "    }\n",
       "\n",
       "    .dataframe thead th {\n",
       "        text-align: right;\n",
       "    }\n",
       "</style>\n",
       "<table border=\"1\" class=\"dataframe\">\n",
       "  <thead>\n",
       "    <tr style=\"text-align: right;\">\n",
       "      <th></th>\n",
       "      <th>file</th>\n",
       "      <th>energy_0</th>\n",
       "      <th>homogenity_0</th>\n",
       "      <th>entrophy_0</th>\n",
       "      <th>contras_0</th>\n",
       "      <th>energy_45</th>\n",
       "      <th>homogenity_45</th>\n",
       "      <th>entrophy_45</th>\n",
       "      <th>contras_45</th>\n",
       "      <th>energy_90</th>\n",
       "      <th>homogenity_90</th>\n",
       "      <th>entrophy_90</th>\n",
       "      <th>contras_90</th>\n",
       "      <th>energy_135</th>\n",
       "      <th>homogenity_135</th>\n",
       "      <th>entrophy_135</th>\n",
       "      <th>contras_135</th>\n",
       "      <th>Target</th>\n",
       "    </tr>\n",
       "  </thead>\n",
       "  <tbody>\n",
       "    <tr>\n",
       "      <th>0</th>\n",
       "      <td>data\\Blight\\Corn_Blight (111).JPG</td>\n",
       "      <td>0.000407</td>\n",
       "      <td>178.497293</td>\n",
       "      <td>8.184861</td>\n",
       "      <td>177.497293</td>\n",
       "      <td>0.000373</td>\n",
       "      <td>193.356811</td>\n",
       "      <td>8.244528</td>\n",
       "      <td>192.356811</td>\n",
       "      <td>0.000487</td>\n",
       "      <td>72.988743</td>\n",
       "      <td>7.936127</td>\n",
       "      <td>71.988743</td>\n",
       "      <td>0.000382</td>\n",
       "      <td>178.073284</td>\n",
       "      <td>8.218762</td>\n",
       "      <td>177.073284</td>\n",
       "      <td>Blight</td>\n",
       "    </tr>\n",
       "    <tr>\n",
       "      <th>1</th>\n",
       "      <td>data\\Blight\\Corn_Blight (112).JPG</td>\n",
       "      <td>0.000543</td>\n",
       "      <td>97.519377</td>\n",
       "      <td>8.127788</td>\n",
       "      <td>96.519377</td>\n",
       "      <td>0.000507</td>\n",
       "      <td>111.753736</td>\n",
       "      <td>8.166177</td>\n",
       "      <td>110.753736</td>\n",
       "      <td>0.000637</td>\n",
       "      <td>48.054626</td>\n",
       "      <td>7.897788</td>\n",
       "      <td>47.054626</td>\n",
       "      <td>0.000428</td>\n",
       "      <td>130.480005</td>\n",
       "      <td>8.303244</td>\n",
       "      <td>129.480005</td>\n",
       "      <td>Blight</td>\n",
       "    </tr>\n",
       "    <tr>\n",
       "      <th>2</th>\n",
       "      <td>data\\Blight\\Corn_Blight (113).JPG</td>\n",
       "      <td>0.000405</td>\n",
       "      <td>191.488989</td>\n",
       "      <td>8.228577</td>\n",
       "      <td>190.488989</td>\n",
       "      <td>0.000379</td>\n",
       "      <td>206.613987</td>\n",
       "      <td>8.286121</td>\n",
       "      <td>205.613987</td>\n",
       "      <td>0.000573</td>\n",
       "      <td>89.864665</td>\n",
       "      <td>7.916103</td>\n",
       "      <td>88.864665</td>\n",
       "      <td>0.000365</td>\n",
       "      <td>240.954554</td>\n",
       "      <td>8.324917</td>\n",
       "      <td>239.954554</td>\n",
       "      <td>Blight</td>\n",
       "    </tr>\n",
       "    <tr>\n",
       "      <th>3</th>\n",
       "      <td>data\\Blight\\Corn_Blight (114).JPG</td>\n",
       "      <td>0.000241</td>\n",
       "      <td>213.173905</td>\n",
       "      <td>8.640188</td>\n",
       "      <td>212.173905</td>\n",
       "      <td>0.000244</td>\n",
       "      <td>206.704507</td>\n",
       "      <td>8.632925</td>\n",
       "      <td>205.704507</td>\n",
       "      <td>0.000409</td>\n",
       "      <td>52.754614</td>\n",
       "      <td>8.147924</td>\n",
       "      <td>51.754614</td>\n",
       "      <td>0.000234</td>\n",
       "      <td>226.944448</td>\n",
       "      <td>8.661606</td>\n",
       "      <td>225.944448</td>\n",
       "      <td>Blight</td>\n",
       "    </tr>\n",
       "    <tr>\n",
       "      <th>4</th>\n",
       "      <td>data\\Blight\\Corn_Blight (115).JPG</td>\n",
       "      <td>0.000272</td>\n",
       "      <td>283.584092</td>\n",
       "      <td>8.594806</td>\n",
       "      <td>282.584092</td>\n",
       "      <td>0.000254</td>\n",
       "      <td>308.931056</td>\n",
       "      <td>8.636834</td>\n",
       "      <td>307.931056</td>\n",
       "      <td>0.000313</td>\n",
       "      <td>186.332800</td>\n",
       "      <td>8.430809</td>\n",
       "      <td>185.332800</td>\n",
       "      <td>0.000257</td>\n",
       "      <td>322.376155</td>\n",
       "      <td>8.638022</td>\n",
       "      <td>321.376155</td>\n",
       "      <td>Blight</td>\n",
       "    </tr>\n",
       "  </tbody>\n",
       "</table>\n",
       "</div>"
      ],
      "text/plain": [
       "                                file  energy_0  homogenity_0  entrophy_0  \\\n",
       "0  data\\Blight\\Corn_Blight (111).JPG  0.000407    178.497293    8.184861   \n",
       "1  data\\Blight\\Corn_Blight (112).JPG  0.000543     97.519377    8.127788   \n",
       "2  data\\Blight\\Corn_Blight (113).JPG  0.000405    191.488989    8.228577   \n",
       "3  data\\Blight\\Corn_Blight (114).JPG  0.000241    213.173905    8.640188   \n",
       "4  data\\Blight\\Corn_Blight (115).JPG  0.000272    283.584092    8.594806   \n",
       "\n",
       "    contras_0  energy_45  homogenity_45  entrophy_45  contras_45  energy_90  \\\n",
       "0  177.497293   0.000373     193.356811     8.244528  192.356811   0.000487   \n",
       "1   96.519377   0.000507     111.753736     8.166177  110.753736   0.000637   \n",
       "2  190.488989   0.000379     206.613987     8.286121  205.613987   0.000573   \n",
       "3  212.173905   0.000244     206.704507     8.632925  205.704507   0.000409   \n",
       "4  282.584092   0.000254     308.931056     8.636834  307.931056   0.000313   \n",
       "\n",
       "   homogenity_90  entrophy_90  contras_90  energy_135  homogenity_135  \\\n",
       "0      72.988743     7.936127   71.988743    0.000382      178.073284   \n",
       "1      48.054626     7.897788   47.054626    0.000428      130.480005   \n",
       "2      89.864665     7.916103   88.864665    0.000365      240.954554   \n",
       "3      52.754614     8.147924   51.754614    0.000234      226.944448   \n",
       "4     186.332800     8.430809  185.332800    0.000257      322.376155   \n",
       "\n",
       "   entrophy_135  contras_135  Target  \n",
       "0      8.218762   177.073284  Blight  \n",
       "1      8.303244   129.480005  Blight  \n",
       "2      8.324917   239.954554  Blight  \n",
       "3      8.661606   225.944448  Blight  \n",
       "4      8.638022   321.376155  Blight  "
      ]
     },
     "execution_count": 4,
     "metadata": {},
     "output_type": "execute_result"
    }
   ],
   "source": [
    "df = pd.read_csv(\"data.csv\")\n",
    "df.head()"
   ]
  },
  {
   "cell_type": "code",
   "execution_count": 6,
   "id": "06288b47",
   "metadata": {},
   "outputs": [
    {
     "data": {
      "text/plain": [
       "((960, 16), (240, 16), (960,), (240,))"
      ]
     },
     "execution_count": 6,
     "metadata": {},
     "output_type": "execute_result"
    }
   ],
   "source": [
    "X = df.drop(columns=[\"file\", \"Target\"])\n",
    "y = df.Target\n",
    "\n",
    "X_train, X_test, y_train, y_test = train_test_split(X, y, test_size=0.2, stratify=y, random_state=42)\n",
    "X_train.shape, X_test.shape, y_train.shape, y_test.shape"
   ]
  },
  {
   "cell_type": "code",
   "execution_count": 7,
   "id": "dad5a035",
   "metadata": {},
   "outputs": [],
   "source": [
    "from sklearn.svm import SVC\n"
   ]
  },
  {
   "cell_type": "code",
   "execution_count": 8,
   "id": "d2a5521a",
   "metadata": {},
   "outputs": [],
   "source": [
    "preprocessor = ColumnTransformer([\n",
    "    ('numeric', num_pipe(), X_train.columns)\n",
    "])\n",
    "pipeline = Pipeline([\n",
    "    ('prep', preprocessor),\n",
    "    ('algo', SVC(max_iter=500))\n",
    "])"
   ]
  },
  {
   "cell_type": "code",
   "execution_count": 9,
   "id": "d4ba476a",
   "metadata": {},
   "outputs": [
    {
     "name": "stdout",
     "output_type": "stream",
     "text": [
      "Fitting 4 folds for each of 49 candidates, totalling 196 fits\n"
     ]
    },
    {
     "name": "stderr",
     "output_type": "stream",
     "text": [
      "D:\\Programs\\miniconda3\\envs\\jcop\\lib\\site-packages\\sklearn\\svm\\_base.py:284: ConvergenceWarning: Solver terminated early (max_iter=500).  Consider pre-processing your data with StandardScaler or MinMaxScaler.\n",
      "  warnings.warn(\n"
     ]
    },
    {
     "name": "stdout",
     "output_type": "stream",
     "text": [
      "{'algo__C': 1.0, 'algo__gamma': 0.001}\n",
      "0.9270833333333334 0.56875 0.6041666666666666\n"
     ]
    }
   ],
   "source": [
    "from sklearn.model_selection import GridSearchCV\n",
    "from jcopml.tuning import grid_search_params as gsp\n",
    "\n",
    "model = GridSearchCV(pipeline, gsp.svm_params, cv=4, n_jobs=-1, verbose=1)\n",
    "model.fit(X_train, y_train)\n",
    "\n",
    "print(model.best_params_)\n",
    "print(model.score(X_train, y_train), model.best_score_, model.score(X_test, y_test))"
   ]
  },
  {
   "cell_type": "code",
   "execution_count": null,
   "id": "38eb53a1",
   "metadata": {},
   "outputs": [],
   "source": []
  }
 ],
 "metadata": {
  "kernelspec": {
   "display_name": "Python [conda env:jcop]",
   "language": "python",
   "name": "conda-env-jcop-py"
  },
  "language_info": {
   "codemirror_mode": {
    "name": "ipython",
    "version": 3
   },
   "file_extension": ".py",
   "mimetype": "text/x-python",
   "name": "python",
   "nbconvert_exporter": "python",
   "pygments_lexer": "ipython3",
   "version": "3.8.12"
  },
  "varInspector": {
   "cols": {
    "lenName": 16,
    "lenType": 16,
    "lenVar": 40
   },
   "kernels_config": {
    "python": {
     "delete_cmd_postfix": "",
     "delete_cmd_prefix": "del ",
     "library": "var_list.py",
     "varRefreshCmd": "print(var_dic_list())"
    },
    "r": {
     "delete_cmd_postfix": ") ",
     "delete_cmd_prefix": "rm(",
     "library": "var_list.r",
     "varRefreshCmd": "cat(var_dic_list()) "
    }
   },
   "types_to_exclude": [
    "module",
    "function",
    "builtin_function_or_method",
    "instance",
    "_Feature"
   ],
   "window_display": false
  }
 },
 "nbformat": 4,
 "nbformat_minor": 5
}
