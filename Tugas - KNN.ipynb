{
 "cells": [
  {
   "cell_type": "markdown",
   "id": "254a894f",
   "metadata": {},
   "source": [
    "# Ekstraksi GLCM"
   ]
  },
  {
   "cell_type": "code",
   "execution_count": 19,
   "id": "5c8bc38e",
   "metadata": {},
   "outputs": [],
   "source": [
    "import numpy as np\n",
    "import cv2 as cv\n",
    "import matplotlib.pyplot as plt\n",
    "import math\n",
    "import pandas as pd\n",
    "import imutils.paths as path\n",
    "from tqdm import tqdm\n",
    "from glob import glob"
   ]
  },
  {
   "cell_type": "code",
   "execution_count": 20,
   "id": "ba68967d",
   "metadata": {},
   "outputs": [
    {
     "data": {
      "text/plain": [
       "['data\\\\Blight\\\\Corn_Blight (111).JPG',\n",
       " 'data\\\\Blight\\\\Corn_Blight (112).JPG',\n",
       " 'data\\\\Blight\\\\Corn_Blight (113).JPG',\n",
       " 'data\\\\Blight\\\\Corn_Blight (114).JPG',\n",
       " 'data\\\\Blight\\\\Corn_Blight (115).JPG',\n",
       " 'data\\\\Blight\\\\Corn_Blight (116).JPG',\n",
       " 'data\\\\Blight\\\\Corn_Blight (117).JPG',\n",
       " 'data\\\\Blight\\\\Corn_Blight (118).JPG',\n",
       " 'data\\\\Blight\\\\Corn_Blight (119).JPG',\n",
       " 'data\\\\Blight\\\\Corn_Blight (120).JPG']"
      ]
     },
     "execution_count": 20,
     "metadata": {},
     "output_type": "execute_result"
    }
   ],
   "source": [
    "PATH = glob(\"data/*/*.jpg\")\n",
    "PATH[:10]"
   ]
  },
  {
   "cell_type": "code",
   "execution_count": 21,
   "id": "5de9e23b",
   "metadata": {},
   "outputs": [
    {
     "name": "stderr",
     "output_type": "stream",
     "text": [
      "load: 100%|███████████████████████████████████████████████████████████████████████| 1200/1200 [00:01<00:00, 941.03it/s]\n"
     ]
    }
   ],
   "source": [
    "data = []\n",
    "for i in tqdm(PATH, desc=\"load\"):\n",
    "    fileImage = cv.imread(i)\n",
    "    img = cv.cvtColor(fileImage, cv.COLOR_BGR2GRAY)\n",
    "    a = cv.resize(img, (128, 128))\n",
    "    data.append(a)\n",
    "# data[:5]"
   ]
  },
  {
   "cell_type": "code",
   "execution_count": 22,
   "id": "8e56db3f",
   "metadata": {},
   "outputs": [],
   "source": [
    "def derajat0(img):\n",
    "    max = np.max(img)\n",
    "    imgTmp = np.zeros([max+1, max+1])\n",
    "    for i in range(len(img)):\n",
    "        for j in range(len(img[i])-1):\n",
    "            imgTmp[img[i,j], img[i, j+1]] += 1\n",
    "    \n",
    "    transpos = np.transpose(imgTmp)\n",
    "    data = imgTmp+transpos\n",
    "    \n",
    "    tmp = 0\n",
    "    for i in range(len(data)):\n",
    "        for j in range(len(data)):\n",
    "            tmp+=data[i, j]\n",
    "            \n",
    "    for i in range(len(data)):\n",
    "        for j in range(len(data)):\n",
    "            data[i, j]/=tmp\n",
    "    \n",
    "    return data"
   ]
  },
  {
   "cell_type": "code",
   "execution_count": 23,
   "id": "920dd3d3",
   "metadata": {},
   "outputs": [],
   "source": [
    "def derajat45(img):\n",
    "    max = np.max(img)\n",
    "    imgTmp = np.zeros([max+1, max+1])\n",
    "    for i in range(len(img)-1):\n",
    "        for j in range(len(img[i])-1):\n",
    "            imgTmp[img[i+1,j], img[i, j+1]] += 1\n",
    "    \n",
    "    transpos = np.transpose(imgTmp)\n",
    "    data = imgTmp+transpos\n",
    "    \n",
    "    tmp = 0\n",
    "    for i in range(len(data)):\n",
    "        for j in range(len(data)):\n",
    "            tmp+=data[i, j]\n",
    "            \n",
    "    for i in range(len(data)):\n",
    "        for j in range(len(data)):\n",
    "            data[i, j]/=tmp\n",
    "    \n",
    "    return data"
   ]
  },
  {
   "cell_type": "code",
   "execution_count": 24,
   "id": "95410a05",
   "metadata": {},
   "outputs": [],
   "source": [
    "def derajat90(img):\n",
    "    max = np.max(img)\n",
    "    imgTmp = np.zeros([max+1, max+1])\n",
    "    for i in range(len(img)-1):\n",
    "        for j in range(len(img[i])):\n",
    "            imgTmp[img[i+1,j], img[i, j]] += 1\n",
    "    \n",
    "    transpos = np.transpose(imgTmp)\n",
    "    data = imgTmp+transpos\n",
    "    \n",
    "    tmp = 0\n",
    "    for i in range(len(data)):\n",
    "        for j in range(len(data)):\n",
    "            tmp+=data[i, j]\n",
    "            \n",
    "    for i in range(len(data)):\n",
    "        for j in range(len(data)):\n",
    "            data[i, j]/=tmp\n",
    "    \n",
    "    return data"
   ]
  },
  {
   "cell_type": "code",
   "execution_count": 25,
   "id": "36f96073",
   "metadata": {},
   "outputs": [],
   "source": [
    "def derajat135(img):\n",
    "    max = np.max(img)\n",
    "    imgTmp = np.zeros([max+1, max+1])\n",
    "    for i in range(len(img)-1):\n",
    "        for j in range(len(img[i])-1):\n",
    "            imgTmp[img[i,j], img[i+1, j+1]] += 1\n",
    "    \n",
    "    transpos = np.transpose(imgTmp)\n",
    "    data = imgTmp+transpos\n",
    "    \n",
    "    tmp = 0\n",
    "    for i in range(len(data)):\n",
    "        for j in range(len(data)):\n",
    "            tmp+=data[i, j]\n",
    "            \n",
    "    for i in range(len(data)):\n",
    "        for j in range(len(data)):\n",
    "            data[i, j]/=tmp\n",
    "    \n",
    "    return data"
   ]
  },
  {
   "cell_type": "code",
   "execution_count": 26,
   "id": "6098d680",
   "metadata": {},
   "outputs": [
    {
     "name": "stderr",
     "output_type": "stream",
     "text": [
      "GLCM: 100%|████████████████████████████████████████████████████████████████████████| 1200/1200 [03:46<00:00,  5.29it/s]\n"
     ]
    }
   ],
   "source": [
    "hasil = []\n",
    "for i in tqdm(range(len(data)), desc='GLCM'):\n",
    "    dat = []\n",
    "    dat.append(derajat0(data[i]))\n",
    "    dat.append(derajat45(data[i]))\n",
    "    dat.append(derajat90(data[i]))\n",
    "    dat.append(derajat135(data[i]))\n",
    "    hasil.append(dat)"
   ]
  },
  {
   "cell_type": "code",
   "execution_count": 28,
   "id": "46e161b0",
   "metadata": {},
   "outputs": [],
   "source": [
    "def contras(data):\n",
    "    contras = 0\n",
    "    for i in range(len(data)):\n",
    "        for j in range(len(data)):\n",
    "            contras += data[i,j]*pow(i-j,2)\n",
    "    return contras"
   ]
  },
  {
   "cell_type": "code",
   "execution_count": 53,
   "id": "38814fa4",
   "metadata": {},
   "outputs": [],
   "source": [
    "def entropy(data):\n",
    "    entro = 0\n",
    "    for i in range(len(data)):\n",
    "        for j in range(len(data)):\n",
    "            if data[i,j] > 0.0:\n",
    "                entro += -(data[i,j] * math.log(data[i,j]))\n",
    "    return entro"
   ]
  },
  {
   "cell_type": "code",
   "execution_count": 54,
   "id": "da0bd3aa",
   "metadata": {},
   "outputs": [],
   "source": [
    "def contras(data):\n",
    "    contras = 0\n",
    "    for i in range(len(data)):\n",
    "        for j in range(len(data)):\n",
    "            contras += data[i,j]*pow(i-j,2)\n",
    "    return contras"
   ]
  },
  {
   "cell_type": "code",
   "execution_count": 55,
   "id": "e31987eb",
   "metadata": {},
   "outputs": [],
   "source": [
    "def homogentitas(data):\n",
    "    homogen = 0\n",
    "    for i in range(len(data)):\n",
    "        for j in range(len(data)):\n",
    "            homogen += data[i,j]*(1+(pow(i-j,2)))\n",
    "    return homogen"
   ]
  },
  {
   "cell_type": "code",
   "execution_count": 56,
   "id": "b6bfd6af",
   "metadata": {},
   "outputs": [],
   "source": [
    "def energy(data):\n",
    "    ener = 0\n",
    "    for i in range(len(data)):\n",
    "        for j in range(len(data)):\n",
    "            ener += data[i,j]**2\n",
    "    return ener"
   ]
  },
  {
   "cell_type": "code",
   "execution_count": 79,
   "id": "40bb9b9b",
   "metadata": {},
   "outputs": [
    {
     "name": "stderr",
     "output_type": "stream",
     "text": [
      "Ekstraksi: 100%|███████████████████████████████████████████████████████████████████| 1200/1200 [08:11<00:00,  2.44it/s]\n"
     ]
    }
   ],
   "source": [
    "data0energy = []\n",
    "data0 = []\n",
    "x = ['0', '45', '90', '135']\n",
    "data45 = []\n",
    "data90 = []\n",
    "data135 = []\n",
    "hasilnya = []\n",
    "\n",
    "for j in tqdm(range(len(hasil)),desc='Ekstraksi'):\n",
    "    da=[]\n",
    "    da.append(PATH[j])\n",
    "    for i in hasil[j]:\n",
    "        dx = energy(i)\n",
    "        da.append(dx)\n",
    "        \n",
    "        dh = homogentitas(i)\n",
    "        da.append(dh)\n",
    "        \n",
    "        den = entropy(i)\n",
    "        da.append(den)\n",
    "        \n",
    "        dco = contras(i)\n",
    "        da.append(dco)\n",
    "    \n",
    "    da.append(str(PATH[j].split(\"\\\\\")[1]))\n",
    "    hasilnya.append(da)"
   ]
  },
  {
   "cell_type": "code",
   "execution_count": 80,
   "id": "e128ff7f",
   "metadata": {},
   "outputs": [],
   "source": [
    "namatabel = ['file', 'energy_0', 'homogenity_0', 'entrophy_0', 'contras_0', 'energy_45', 'homogenity_45', 'entrophy_45', 'contras_45', 'energy_90', 'homogenity_90', 'entrophy_90', 'contras_90', 'energy_135', 'homogenity_135', 'entrophy_135', 'contras_135', 'Target']\n",
    "df = pd.DataFrame(hasilnya, columns=namatabel)"
   ]
  },
  {
   "cell_type": "code",
   "execution_count": 81,
   "id": "0f2c178d",
   "metadata": {},
   "outputs": [
    {
     "data": {
      "text/plain": [
       "(1200, 18)"
      ]
     },
     "execution_count": 81,
     "metadata": {},
     "output_type": "execute_result"
    }
   ],
   "source": [
    "df.head()\n",
    "df.shape"
   ]
  },
  {
   "cell_type": "code",
   "execution_count": 82,
   "id": "34fd473a",
   "metadata": {},
   "outputs": [
    {
     "data": {
      "text/html": [
       "<div>\n",
       "<style scoped>\n",
       "    .dataframe tbody tr th:only-of-type {\n",
       "        vertical-align: middle;\n",
       "    }\n",
       "\n",
       "    .dataframe tbody tr th {\n",
       "        vertical-align: top;\n",
       "    }\n",
       "\n",
       "    .dataframe thead th {\n",
       "        text-align: right;\n",
       "    }\n",
       "</style>\n",
       "<table border=\"1\" class=\"dataframe\">\n",
       "  <thead>\n",
       "    <tr style=\"text-align: right;\">\n",
       "      <th></th>\n",
       "      <th>file</th>\n",
       "      <th>energy_0</th>\n",
       "      <th>homogenity_0</th>\n",
       "      <th>entrophy_0</th>\n",
       "      <th>contras_0</th>\n",
       "      <th>energy_45</th>\n",
       "      <th>homogenity_45</th>\n",
       "      <th>entrophy_45</th>\n",
       "      <th>contras_45</th>\n",
       "      <th>energy_90</th>\n",
       "      <th>homogenity_90</th>\n",
       "      <th>entrophy_90</th>\n",
       "      <th>contras_90</th>\n",
       "      <th>energy_135</th>\n",
       "      <th>homogenity_135</th>\n",
       "      <th>entrophy_135</th>\n",
       "      <th>contras_135</th>\n",
       "      <th>Target</th>\n",
       "    </tr>\n",
       "  </thead>\n",
       "  <tbody>\n",
       "    <tr>\n",
       "      <th>0</th>\n",
       "      <td>data\\Blight\\Corn_Blight (111).JPG</td>\n",
       "      <td>0.000407</td>\n",
       "      <td>178.497293</td>\n",
       "      <td>8.184861</td>\n",
       "      <td>177.497293</td>\n",
       "      <td>0.000373</td>\n",
       "      <td>193.356811</td>\n",
       "      <td>8.244528</td>\n",
       "      <td>192.356811</td>\n",
       "      <td>0.000487</td>\n",
       "      <td>72.988743</td>\n",
       "      <td>7.936127</td>\n",
       "      <td>71.988743</td>\n",
       "      <td>0.000382</td>\n",
       "      <td>178.073284</td>\n",
       "      <td>8.218762</td>\n",
       "      <td>177.073284</td>\n",
       "      <td>Blight</td>\n",
       "    </tr>\n",
       "    <tr>\n",
       "      <th>1</th>\n",
       "      <td>data\\Blight\\Corn_Blight (112).JPG</td>\n",
       "      <td>0.000543</td>\n",
       "      <td>97.519377</td>\n",
       "      <td>8.127788</td>\n",
       "      <td>96.519377</td>\n",
       "      <td>0.000507</td>\n",
       "      <td>111.753736</td>\n",
       "      <td>8.166177</td>\n",
       "      <td>110.753736</td>\n",
       "      <td>0.000637</td>\n",
       "      <td>48.054626</td>\n",
       "      <td>7.897788</td>\n",
       "      <td>47.054626</td>\n",
       "      <td>0.000428</td>\n",
       "      <td>130.480005</td>\n",
       "      <td>8.303244</td>\n",
       "      <td>129.480005</td>\n",
       "      <td>Blight</td>\n",
       "    </tr>\n",
       "    <tr>\n",
       "      <th>2</th>\n",
       "      <td>data\\Blight\\Corn_Blight (113).JPG</td>\n",
       "      <td>0.000405</td>\n",
       "      <td>191.488989</td>\n",
       "      <td>8.228577</td>\n",
       "      <td>190.488989</td>\n",
       "      <td>0.000379</td>\n",
       "      <td>206.613987</td>\n",
       "      <td>8.286121</td>\n",
       "      <td>205.613987</td>\n",
       "      <td>0.000573</td>\n",
       "      <td>89.864665</td>\n",
       "      <td>7.916103</td>\n",
       "      <td>88.864665</td>\n",
       "      <td>0.000365</td>\n",
       "      <td>240.954554</td>\n",
       "      <td>8.324917</td>\n",
       "      <td>239.954554</td>\n",
       "      <td>Blight</td>\n",
       "    </tr>\n",
       "    <tr>\n",
       "      <th>3</th>\n",
       "      <td>data\\Blight\\Corn_Blight (114).JPG</td>\n",
       "      <td>0.000241</td>\n",
       "      <td>213.173905</td>\n",
       "      <td>8.640188</td>\n",
       "      <td>212.173905</td>\n",
       "      <td>0.000244</td>\n",
       "      <td>206.704507</td>\n",
       "      <td>8.632925</td>\n",
       "      <td>205.704507</td>\n",
       "      <td>0.000409</td>\n",
       "      <td>52.754614</td>\n",
       "      <td>8.147924</td>\n",
       "      <td>51.754614</td>\n",
       "      <td>0.000234</td>\n",
       "      <td>226.944448</td>\n",
       "      <td>8.661606</td>\n",
       "      <td>225.944448</td>\n",
       "      <td>Blight</td>\n",
       "    </tr>\n",
       "    <tr>\n",
       "      <th>4</th>\n",
       "      <td>data\\Blight\\Corn_Blight (115).JPG</td>\n",
       "      <td>0.000272</td>\n",
       "      <td>283.584092</td>\n",
       "      <td>8.594806</td>\n",
       "      <td>282.584092</td>\n",
       "      <td>0.000254</td>\n",
       "      <td>308.931056</td>\n",
       "      <td>8.636834</td>\n",
       "      <td>307.931056</td>\n",
       "      <td>0.000313</td>\n",
       "      <td>186.332800</td>\n",
       "      <td>8.430809</td>\n",
       "      <td>185.332800</td>\n",
       "      <td>0.000257</td>\n",
       "      <td>322.376155</td>\n",
       "      <td>8.638022</td>\n",
       "      <td>321.376155</td>\n",
       "      <td>Blight</td>\n",
       "    </tr>\n",
       "    <tr>\n",
       "      <th>...</th>\n",
       "      <td>...</td>\n",
       "      <td>...</td>\n",
       "      <td>...</td>\n",
       "      <td>...</td>\n",
       "      <td>...</td>\n",
       "      <td>...</td>\n",
       "      <td>...</td>\n",
       "      <td>...</td>\n",
       "      <td>...</td>\n",
       "      <td>...</td>\n",
       "      <td>...</td>\n",
       "      <td>...</td>\n",
       "      <td>...</td>\n",
       "      <td>...</td>\n",
       "      <td>...</td>\n",
       "      <td>...</td>\n",
       "      <td>...</td>\n",
       "      <td>...</td>\n",
       "    </tr>\n",
       "    <tr>\n",
       "      <th>1195</th>\n",
       "      <td>data\\Healthy\\Corn_Health (95).jpg</td>\n",
       "      <td>0.000355</td>\n",
       "      <td>76.100578</td>\n",
       "      <td>8.309527</td>\n",
       "      <td>75.100578</td>\n",
       "      <td>0.000348</td>\n",
       "      <td>83.303119</td>\n",
       "      <td>8.350315</td>\n",
       "      <td>82.303119</td>\n",
       "      <td>0.000401</td>\n",
       "      <td>52.576341</td>\n",
       "      <td>8.203195</td>\n",
       "      <td>51.576341</td>\n",
       "      <td>0.000278</td>\n",
       "      <td>123.119164</td>\n",
       "      <td>8.520840</td>\n",
       "      <td>122.119164</td>\n",
       "      <td>Healthy</td>\n",
       "    </tr>\n",
       "    <tr>\n",
       "      <th>1196</th>\n",
       "      <td>data\\Healthy\\Corn_Health (96).jpg</td>\n",
       "      <td>0.001349</td>\n",
       "      <td>80.908772</td>\n",
       "      <td>7.147650</td>\n",
       "      <td>79.908772</td>\n",
       "      <td>0.001551</td>\n",
       "      <td>60.628805</td>\n",
       "      <td>6.997877</td>\n",
       "      <td>59.628805</td>\n",
       "      <td>0.001593</td>\n",
       "      <td>38.595842</td>\n",
       "      <td>6.985736</td>\n",
       "      <td>37.595842</td>\n",
       "      <td>0.001222</td>\n",
       "      <td>104.736747</td>\n",
       "      <td>7.238532</td>\n",
       "      <td>103.736747</td>\n",
       "      <td>Healthy</td>\n",
       "    </tr>\n",
       "    <tr>\n",
       "      <th>1197</th>\n",
       "      <td>data\\Healthy\\Corn_Health (97).jpg</td>\n",
       "      <td>0.001247</td>\n",
       "      <td>45.854638</td>\n",
       "      <td>7.192478</td>\n",
       "      <td>44.854638</td>\n",
       "      <td>0.001406</td>\n",
       "      <td>24.355447</td>\n",
       "      <td>7.044773</td>\n",
       "      <td>23.355447</td>\n",
       "      <td>0.001824</td>\n",
       "      <td>14.741203</td>\n",
       "      <td>6.826021</td>\n",
       "      <td>13.741203</td>\n",
       "      <td>0.001065</td>\n",
       "      <td>77.800856</td>\n",
       "      <td>7.353296</td>\n",
       "      <td>76.800856</td>\n",
       "      <td>Healthy</td>\n",
       "    </tr>\n",
       "    <tr>\n",
       "      <th>1198</th>\n",
       "      <td>data\\Healthy\\Corn_Health (98).jpg</td>\n",
       "      <td>0.001808</td>\n",
       "      <td>41.595842</td>\n",
       "      <td>6.995601</td>\n",
       "      <td>40.595842</td>\n",
       "      <td>0.001602</td>\n",
       "      <td>36.750388</td>\n",
       "      <td>7.027202</td>\n",
       "      <td>35.750388</td>\n",
       "      <td>0.002463</td>\n",
       "      <td>14.292692</td>\n",
       "      <td>6.607299</td>\n",
       "      <td>13.292692</td>\n",
       "      <td>0.001604</td>\n",
       "      <td>60.703701</td>\n",
       "      <td>7.143325</td>\n",
       "      <td>59.703701</td>\n",
       "      <td>Healthy</td>\n",
       "    </tr>\n",
       "    <tr>\n",
       "      <th>1199</th>\n",
       "      <td>data\\Healthy\\Corn_Health (99).jpg</td>\n",
       "      <td>0.000567</td>\n",
       "      <td>95.245509</td>\n",
       "      <td>7.963336</td>\n",
       "      <td>94.245509</td>\n",
       "      <td>0.000526</td>\n",
       "      <td>111.255007</td>\n",
       "      <td>8.022429</td>\n",
       "      <td>110.255007</td>\n",
       "      <td>0.000940</td>\n",
       "      <td>25.939161</td>\n",
       "      <td>7.428425</td>\n",
       "      <td>24.939161</td>\n",
       "      <td>0.000554</td>\n",
       "      <td>95.428731</td>\n",
       "      <td>7.989588</td>\n",
       "      <td>94.428731</td>\n",
       "      <td>Healthy</td>\n",
       "    </tr>\n",
       "  </tbody>\n",
       "</table>\n",
       "<p>1200 rows × 18 columns</p>\n",
       "</div>"
      ],
      "text/plain": [
       "                                   file  energy_0  homogenity_0  entrophy_0  \\\n",
       "0     data\\Blight\\Corn_Blight (111).JPG  0.000407    178.497293    8.184861   \n",
       "1     data\\Blight\\Corn_Blight (112).JPG  0.000543     97.519377    8.127788   \n",
       "2     data\\Blight\\Corn_Blight (113).JPG  0.000405    191.488989    8.228577   \n",
       "3     data\\Blight\\Corn_Blight (114).JPG  0.000241    213.173905    8.640188   \n",
       "4     data\\Blight\\Corn_Blight (115).JPG  0.000272    283.584092    8.594806   \n",
       "...                                 ...       ...           ...         ...   \n",
       "1195  data\\Healthy\\Corn_Health (95).jpg  0.000355     76.100578    8.309527   \n",
       "1196  data\\Healthy\\Corn_Health (96).jpg  0.001349     80.908772    7.147650   \n",
       "1197  data\\Healthy\\Corn_Health (97).jpg  0.001247     45.854638    7.192478   \n",
       "1198  data\\Healthy\\Corn_Health (98).jpg  0.001808     41.595842    6.995601   \n",
       "1199  data\\Healthy\\Corn_Health (99).jpg  0.000567     95.245509    7.963336   \n",
       "\n",
       "       contras_0  energy_45  homogenity_45  entrophy_45  contras_45  \\\n",
       "0     177.497293   0.000373     193.356811     8.244528  192.356811   \n",
       "1      96.519377   0.000507     111.753736     8.166177  110.753736   \n",
       "2     190.488989   0.000379     206.613987     8.286121  205.613987   \n",
       "3     212.173905   0.000244     206.704507     8.632925  205.704507   \n",
       "4     282.584092   0.000254     308.931056     8.636834  307.931056   \n",
       "...          ...        ...            ...          ...         ...   \n",
       "1195   75.100578   0.000348      83.303119     8.350315   82.303119   \n",
       "1196   79.908772   0.001551      60.628805     6.997877   59.628805   \n",
       "1197   44.854638   0.001406      24.355447     7.044773   23.355447   \n",
       "1198   40.595842   0.001602      36.750388     7.027202   35.750388   \n",
       "1199   94.245509   0.000526     111.255007     8.022429  110.255007   \n",
       "\n",
       "      energy_90  homogenity_90  entrophy_90  contras_90  energy_135  \\\n",
       "0      0.000487      72.988743     7.936127   71.988743    0.000382   \n",
       "1      0.000637      48.054626     7.897788   47.054626    0.000428   \n",
       "2      0.000573      89.864665     7.916103   88.864665    0.000365   \n",
       "3      0.000409      52.754614     8.147924   51.754614    0.000234   \n",
       "4      0.000313     186.332800     8.430809  185.332800    0.000257   \n",
       "...         ...            ...          ...         ...         ...   \n",
       "1195   0.000401      52.576341     8.203195   51.576341    0.000278   \n",
       "1196   0.001593      38.595842     6.985736   37.595842    0.001222   \n",
       "1197   0.001824      14.741203     6.826021   13.741203    0.001065   \n",
       "1198   0.002463      14.292692     6.607299   13.292692    0.001604   \n",
       "1199   0.000940      25.939161     7.428425   24.939161    0.000554   \n",
       "\n",
       "      homogenity_135  entrophy_135  contras_135   Target  \n",
       "0         178.073284      8.218762   177.073284   Blight  \n",
       "1         130.480005      8.303244   129.480005   Blight  \n",
       "2         240.954554      8.324917   239.954554   Blight  \n",
       "3         226.944448      8.661606   225.944448   Blight  \n",
       "4         322.376155      8.638022   321.376155   Blight  \n",
       "...              ...           ...          ...      ...  \n",
       "1195      123.119164      8.520840   122.119164  Healthy  \n",
       "1196      104.736747      7.238532   103.736747  Healthy  \n",
       "1197       77.800856      7.353296    76.800856  Healthy  \n",
       "1198       60.703701      7.143325    59.703701  Healthy  \n",
       "1199       95.428731      7.989588    94.428731  Healthy  \n",
       "\n",
       "[1200 rows x 18 columns]"
      ]
     },
     "execution_count": 82,
     "metadata": {},
     "output_type": "execute_result"
    }
   ],
   "source": [
    "df"
   ]
  },
  {
   "cell_type": "code",
   "execution_count": 83,
   "id": "d6437a58",
   "metadata": {},
   "outputs": [],
   "source": [
    "df.to_csv(r'data.csv', index=False)"
   ]
  },
  {
   "cell_type": "markdown",
   "id": "42e56465",
   "metadata": {},
   "source": [
    "# Klasifikasi KNN"
   ]
  },
  {
   "cell_type": "code",
   "execution_count": 130,
   "id": "2083d096",
   "metadata": {},
   "outputs": [],
   "source": [
    "import numpy as np\n",
    "import pandas as pd\n",
    "\n",
    "from sklearn.model_selection import train_test_split\n",
    "from sklearn.neighbors import KNeighborsClassifier\n",
    "from sklearn.preprocessing import MinMaxScaler\n",
    "from sklearn.compose import ColumnTransformer\n",
    "from sklearn.pipeline import Pipeline\n",
    "from sklearn.model_selection import GridSearchCV\n",
    "from jcopml.utils import save_model, load_model"
   ]
  },
  {
   "cell_type": "code",
   "execution_count": 123,
   "id": "ba20d8ee",
   "metadata": {},
   "outputs": [
    {
     "data": {
      "text/html": [
       "<div>\n",
       "<style scoped>\n",
       "    .dataframe tbody tr th:only-of-type {\n",
       "        vertical-align: middle;\n",
       "    }\n",
       "\n",
       "    .dataframe tbody tr th {\n",
       "        vertical-align: top;\n",
       "    }\n",
       "\n",
       "    .dataframe thead th {\n",
       "        text-align: right;\n",
       "    }\n",
       "</style>\n",
       "<table border=\"1\" class=\"dataframe\">\n",
       "  <thead>\n",
       "    <tr style=\"text-align: right;\">\n",
       "      <th></th>\n",
       "      <th>file</th>\n",
       "      <th>energy_0</th>\n",
       "      <th>homogenity_0</th>\n",
       "      <th>entrophy_0</th>\n",
       "      <th>contras_0</th>\n",
       "      <th>energy_45</th>\n",
       "      <th>homogenity_45</th>\n",
       "      <th>entrophy_45</th>\n",
       "      <th>contras_45</th>\n",
       "      <th>energy_90</th>\n",
       "      <th>homogenity_90</th>\n",
       "      <th>entrophy_90</th>\n",
       "      <th>contras_90</th>\n",
       "      <th>energy_135</th>\n",
       "      <th>homogenity_135</th>\n",
       "      <th>entrophy_135</th>\n",
       "      <th>contras_135</th>\n",
       "      <th>Target</th>\n",
       "    </tr>\n",
       "  </thead>\n",
       "  <tbody>\n",
       "    <tr>\n",
       "      <th>0</th>\n",
       "      <td>data\\Blight\\Corn_Blight (111).JPG</td>\n",
       "      <td>0.000407</td>\n",
       "      <td>178.497293</td>\n",
       "      <td>8.184861</td>\n",
       "      <td>177.497293</td>\n",
       "      <td>0.000373</td>\n",
       "      <td>193.356811</td>\n",
       "      <td>8.244528</td>\n",
       "      <td>192.356811</td>\n",
       "      <td>0.000487</td>\n",
       "      <td>72.988743</td>\n",
       "      <td>7.936127</td>\n",
       "      <td>71.988743</td>\n",
       "      <td>0.000382</td>\n",
       "      <td>178.073284</td>\n",
       "      <td>8.218762</td>\n",
       "      <td>177.073284</td>\n",
       "      <td>Blight</td>\n",
       "    </tr>\n",
       "    <tr>\n",
       "      <th>1</th>\n",
       "      <td>data\\Blight\\Corn_Blight (112).JPG</td>\n",
       "      <td>0.000543</td>\n",
       "      <td>97.519377</td>\n",
       "      <td>8.127788</td>\n",
       "      <td>96.519377</td>\n",
       "      <td>0.000507</td>\n",
       "      <td>111.753736</td>\n",
       "      <td>8.166177</td>\n",
       "      <td>110.753736</td>\n",
       "      <td>0.000637</td>\n",
       "      <td>48.054626</td>\n",
       "      <td>7.897788</td>\n",
       "      <td>47.054626</td>\n",
       "      <td>0.000428</td>\n",
       "      <td>130.480005</td>\n",
       "      <td>8.303244</td>\n",
       "      <td>129.480005</td>\n",
       "      <td>Blight</td>\n",
       "    </tr>\n",
       "    <tr>\n",
       "      <th>2</th>\n",
       "      <td>data\\Blight\\Corn_Blight (113).JPG</td>\n",
       "      <td>0.000405</td>\n",
       "      <td>191.488989</td>\n",
       "      <td>8.228577</td>\n",
       "      <td>190.488989</td>\n",
       "      <td>0.000379</td>\n",
       "      <td>206.613987</td>\n",
       "      <td>8.286121</td>\n",
       "      <td>205.613987</td>\n",
       "      <td>0.000573</td>\n",
       "      <td>89.864665</td>\n",
       "      <td>7.916103</td>\n",
       "      <td>88.864665</td>\n",
       "      <td>0.000365</td>\n",
       "      <td>240.954554</td>\n",
       "      <td>8.324917</td>\n",
       "      <td>239.954554</td>\n",
       "      <td>Blight</td>\n",
       "    </tr>\n",
       "    <tr>\n",
       "      <th>3</th>\n",
       "      <td>data\\Blight\\Corn_Blight (114).JPG</td>\n",
       "      <td>0.000241</td>\n",
       "      <td>213.173905</td>\n",
       "      <td>8.640188</td>\n",
       "      <td>212.173905</td>\n",
       "      <td>0.000244</td>\n",
       "      <td>206.704507</td>\n",
       "      <td>8.632925</td>\n",
       "      <td>205.704507</td>\n",
       "      <td>0.000409</td>\n",
       "      <td>52.754614</td>\n",
       "      <td>8.147924</td>\n",
       "      <td>51.754614</td>\n",
       "      <td>0.000234</td>\n",
       "      <td>226.944448</td>\n",
       "      <td>8.661606</td>\n",
       "      <td>225.944448</td>\n",
       "      <td>Blight</td>\n",
       "    </tr>\n",
       "    <tr>\n",
       "      <th>4</th>\n",
       "      <td>data\\Blight\\Corn_Blight (115).JPG</td>\n",
       "      <td>0.000272</td>\n",
       "      <td>283.584092</td>\n",
       "      <td>8.594806</td>\n",
       "      <td>282.584092</td>\n",
       "      <td>0.000254</td>\n",
       "      <td>308.931056</td>\n",
       "      <td>8.636834</td>\n",
       "      <td>307.931056</td>\n",
       "      <td>0.000313</td>\n",
       "      <td>186.332800</td>\n",
       "      <td>8.430809</td>\n",
       "      <td>185.332800</td>\n",
       "      <td>0.000257</td>\n",
       "      <td>322.376155</td>\n",
       "      <td>8.638022</td>\n",
       "      <td>321.376155</td>\n",
       "      <td>Blight</td>\n",
       "    </tr>\n",
       "  </tbody>\n",
       "</table>\n",
       "</div>"
      ],
      "text/plain": [
       "                                file  energy_0  homogenity_0  entrophy_0  \\\n",
       "0  data\\Blight\\Corn_Blight (111).JPG  0.000407    178.497293    8.184861   \n",
       "1  data\\Blight\\Corn_Blight (112).JPG  0.000543     97.519377    8.127788   \n",
       "2  data\\Blight\\Corn_Blight (113).JPG  0.000405    191.488989    8.228577   \n",
       "3  data\\Blight\\Corn_Blight (114).JPG  0.000241    213.173905    8.640188   \n",
       "4  data\\Blight\\Corn_Blight (115).JPG  0.000272    283.584092    8.594806   \n",
       "\n",
       "    contras_0  energy_45  homogenity_45  entrophy_45  contras_45  energy_90  \\\n",
       "0  177.497293   0.000373     193.356811     8.244528  192.356811   0.000487   \n",
       "1   96.519377   0.000507     111.753736     8.166177  110.753736   0.000637   \n",
       "2  190.488989   0.000379     206.613987     8.286121  205.613987   0.000573   \n",
       "3  212.173905   0.000244     206.704507     8.632925  205.704507   0.000409   \n",
       "4  282.584092   0.000254     308.931056     8.636834  307.931056   0.000313   \n",
       "\n",
       "   homogenity_90  entrophy_90  contras_90  energy_135  homogenity_135  \\\n",
       "0      72.988743     7.936127   71.988743    0.000382      178.073284   \n",
       "1      48.054626     7.897788   47.054626    0.000428      130.480005   \n",
       "2      89.864665     7.916103   88.864665    0.000365      240.954554   \n",
       "3      52.754614     8.147924   51.754614    0.000234      226.944448   \n",
       "4     186.332800     8.430809  185.332800    0.000257      322.376155   \n",
       "\n",
       "   entrophy_135  contras_135  Target  \n",
       "0      8.218762   177.073284  Blight  \n",
       "1      8.303244   129.480005  Blight  \n",
       "2      8.324917   239.954554  Blight  \n",
       "3      8.661606   225.944448  Blight  \n",
       "4      8.638022   321.376155  Blight  "
      ]
     },
     "execution_count": 123,
     "metadata": {},
     "output_type": "execute_result"
    }
   ],
   "source": [
    "df = pd.read_csv(\"data.csv\")\n",
    "df.head()"
   ]
  },
  {
   "cell_type": "code",
   "execution_count": 132,
   "id": "9daf5b26",
   "metadata": {},
   "outputs": [
    {
     "data": {
      "text/plain": [
       "((960, 16), (240, 16), (960,), (240,))"
      ]
     },
     "execution_count": 132,
     "metadata": {},
     "output_type": "execute_result"
    }
   ],
   "source": [
    "X = df.drop(columns=[\"Target\",\"file\"])\n",
    "y = df.Target\n",
    "\n",
    "X_train, X_test, y_train, y_test = train_test_split(X, y, test_size=0.2, stratify=y, random_state=42)\n",
    "X_train.shape, X_test.shape, y_train.shape, y_test.shape"
   ]
  },
  {
   "cell_type": "code",
   "execution_count": 133,
   "id": "ad029afd",
   "metadata": {},
   "outputs": [],
   "source": [
    "# scaler = MinMaxScaler()\n",
    "# scaler.fit(X_train)\n",
    "\n",
    "# X_train_scaled = scaler.transform(X_train)\n",
    "# X_test_scaled = scaler.transform(X_test)"
   ]
  },
  {
   "cell_type": "code",
   "execution_count": 155,
   "id": "09e515df",
   "metadata": {},
   "outputs": [
    {
     "data": {
      "text/plain": [
       "Index(['energy_0', 'homogenity_0', 'entrophy_0', 'contras_0', 'energy_45',\n",
       "       'homogenity_45', 'entrophy_45', 'contras_45', 'energy_90',\n",
       "       'homogenity_90', 'entrophy_90', 'contras_90', 'energy_135',\n",
       "       'homogenity_135', 'entrophy_135', 'contras_135'],\n",
       "      dtype='object')"
      ]
     },
     "execution_count": 155,
     "metadata": {},
     "output_type": "execute_result"
    }
   ],
   "source": [
    "# neighbor = range(1, 51, 2)\n",
    "# train_score = []\n",
    "# test_score = []\n",
    "\n",
    "# for k in neighbor:\n",
    "#     knn = KNeighborsClassifier(n_neighbors=k)\n",
    "#     knn.fit(X_train_scaled, y_train)\n",
    "    \n",
    "#     train_score.append(knn.score(X_train_scaled, y_train))\n",
    "#     test_score.append(knn.score(X_test_scaled, y_test))\n",
    "    \n",
    "# plt.plot(neighbor, train_score, label=\"train\")\n",
    "# plt.plot(neighbor, test_score, label=\"test\")\n",
    "# plt.legend()\n",
    "\n",
    "# print(f\"Max test score: {np.max(test_score)}\")\n",
    "# print(f\"n_neighbor: {neighbor[np.argmax(test_score)]}\")\n",
    "\n",
    "# knn.score(X_train_scaled, y_train), knn.score(X_test_scaled, y_test)"
   ]
  },
  {
   "cell_type": "markdown",
   "id": "4a88eebd",
   "metadata": {},
   "source": [
    "## Preprocessor"
   ]
  },
  {
   "cell_type": "code",
   "execution_count": 150,
   "id": "81db54ec",
   "metadata": {},
   "outputs": [],
   "source": [
    "preprocessor = ColumnTransformer([\n",
    "    ('numeric', num_pipe(), X_train.columns)\n",
    "])\n",
    "pipeline = Pipeline([\n",
    "    (\"prep\", preprocessor),\n",
    "    (\"algo\", KNeighborsClassifier())\n",
    "])"
   ]
  },
  {
   "cell_type": "code",
   "execution_count": 151,
   "id": "456c4f47",
   "metadata": {},
   "outputs": [
    {
     "name": "stdout",
     "output_type": "stream",
     "text": [
      "Fitting 4 folds for each of 100 candidates, totalling 400 fits\n"
     ]
    },
    {
     "data": {
      "text/plain": [
       "GridSearchCV(cv=4,\n",
       "             estimator=Pipeline(steps=[('prep',\n",
       "                                        ColumnTransformer(transformers=[('numeric',\n",
       "                                                                         Pipeline(steps=[('imputer',\n",
       "                                                                                          SimpleImputer(strategy='median'))]),\n",
       "                                                                         Index(['energy_0', 'homogenity_0', 'entrophy_0', 'contras_0', 'energy_45',\n",
       "       'homogenity_45', 'entrophy_45', 'contras_45', 'energy_90',\n",
       "       'homogenity_90', 'entrophy_90', 'contras_90', 'energy_135',\n",
       "       'homogenity_135', 'entrophy_135', 'contras_135'],\n",
       "      dtype='object'))])),\n",
       "                                       ('algo', KNeighborsClassifier())]),\n",
       "             n_jobs=-1,\n",
       "             param_grid={'algo__n_neighbors': range(1, 51, 2),\n",
       "                         'algo__p': [1, 2],\n",
       "                         'algo__weights': ['uniform', 'distance']},\n",
       "             verbose=1)"
      ]
     },
     "execution_count": 151,
     "metadata": {},
     "output_type": "execute_result"
    }
   ],
   "source": [
    "parameter = {\n",
    "    \"algo__n_neighbors\": range(1, 51, 2),\n",
    "    \"algo__weights\": [\"uniform\", \"distance\"],\n",
    "    \"algo__p\": [1, 2]\n",
    "}\n",
    "\n",
    "model = GridSearchCV(pipeline, parameter, cv=4, n_jobs=-1, verbose=1)\n",
    "model.fit(X_train, y_train)"
   ]
  },
  {
   "cell_type": "code",
   "execution_count": 152,
   "id": "3d07371e",
   "metadata": {},
   "outputs": [
    {
     "data": {
      "text/plain": [
       "{'algo__n_neighbors': 17, 'algo__p': 2, 'algo__weights': 'distance'}"
      ]
     },
     "execution_count": 152,
     "metadata": {},
     "output_type": "execute_result"
    }
   ],
   "source": [
    "model.best_params_"
   ]
  },
  {
   "cell_type": "code",
   "execution_count": 153,
   "id": "9b9581b8",
   "metadata": {},
   "outputs": [
    {
     "data": {
      "text/plain": [
       "(1.0, 0.7041666666666667)"
      ]
     },
     "execution_count": 153,
     "metadata": {},
     "output_type": "execute_result"
    }
   ],
   "source": [
    "model.score(X_train, y_train), model.score(X_test, y_test)"
   ]
  }
 ],
 "metadata": {
  "kernelspec": {
   "display_name": "Python [conda env:knn] *",
   "language": "python",
   "name": "conda-env-knn-py"
  },
  "language_info": {
   "codemirror_mode": {
    "name": "ipython",
    "version": 3
   },
   "file_extension": ".py",
   "mimetype": "text/x-python",
   "name": "python",
   "nbconvert_exporter": "python",
   "pygments_lexer": "ipython3",
   "version": "3.9.7"
  },
  "varInspector": {
   "cols": {
    "lenName": 16,
    "lenType": 16,
    "lenVar": 40
   },
   "kernels_config": {
    "python": {
     "delete_cmd_postfix": "",
     "delete_cmd_prefix": "del ",
     "library": "var_list.py",
     "varRefreshCmd": "print(var_dic_list())"
    },
    "r": {
     "delete_cmd_postfix": ") ",
     "delete_cmd_prefix": "rm(",
     "library": "var_list.r",
     "varRefreshCmd": "cat(var_dic_list()) "
    }
   },
   "types_to_exclude": [
    "module",
    "function",
    "builtin_function_or_method",
    "instance",
    "_Feature"
   ],
   "window_display": false
  }
 },
 "nbformat": 4,
 "nbformat_minor": 5
}
