{
 "cells": [
  {
   "cell_type": "code",
   "execution_count": 1,
   "id": "dff21b6a",
   "metadata": {},
   "outputs": [],
   "source": [
    "import numpy as np\n",
    "import cv2\n",
    "import matplotlib.pyplot as plt\n",
    "import math\n",
    "import pandas as pd\n",
    "from tqdm import tqdm\n",
    "from glob import glob\n",
    "from sklearn.neighbors import KNeighborsClassifier\n",
    "from sklearn.preprocessing import MinMaxScaler\n",
    "from jcopml.utils import save_model, load_model\n",
    "from ekstraksi_fitur import ekstrak\n",
    "# from knn import predict_knn"
   ]
  },
  {
   "cell_type": "markdown",
   "id": "5019765d",
   "metadata": {},
   "source": [
    "# Feature Extraction GLCM"
   ]
  },
  {
   "cell_type": "code",
   "execution_count": 4,
   "id": "e432c632",
   "metadata": {},
   "outputs": [
    {
     "name": "stderr",
     "output_type": "stream",
     "text": [
      "load: 100%|██████████| 960/960 [00:01<00:00, 760.87it/s]\n",
      "GLCM: 100%|██████████| 960/960 [03:03<00:00,  5.24it/s]\n",
      "Ekstraksi:  54%|█████▍    | 517/960 [04:55<04:12,  1.75it/s]\n"
     ]
    },
    {
     "ename": "KeyboardInterrupt",
     "evalue": "",
     "output_type": "error",
     "traceback": [
      "\u001b[1;31m---------------------------------------------------------------------------\u001b[0m",
      "\u001b[1;31mKeyboardInterrupt\u001b[0m                         Traceback (most recent call last)",
      "\u001b[1;32m~\\AppData\\Local\\Temp/ipykernel_23956/2566011491.py\u001b[0m in \u001b[0;36m<module>\u001b[1;34m\u001b[0m\n\u001b[0;32m      1\u001b[0m \u001b[0mpath_train\u001b[0m \u001b[1;33m=\u001b[0m \u001b[0mglob\u001b[0m\u001b[1;33m(\u001b[0m\u001b[1;34m\"dataset/train/*/*.jpg\"\u001b[0m\u001b[1;33m)\u001b[0m\u001b[1;33m\u001b[0m\u001b[1;33m\u001b[0m\u001b[0m\n\u001b[0;32m      2\u001b[0m \u001b[0mpath_test\u001b[0m \u001b[1;33m=\u001b[0m \u001b[0mglob\u001b[0m\u001b[1;33m(\u001b[0m\u001b[1;34m\"dataset/test/*/*.jpg\"\u001b[0m\u001b[1;33m)\u001b[0m\u001b[1;33m\u001b[0m\u001b[1;33m\u001b[0m\u001b[0m\n\u001b[1;32m----> 3\u001b[1;33m \u001b[0mdf_train\u001b[0m \u001b[1;33m=\u001b[0m \u001b[0mekstrak\u001b[0m\u001b[1;33m(\u001b[0m\u001b[0mpath_train\u001b[0m\u001b[1;33m)\u001b[0m\u001b[1;33m\u001b[0m\u001b[1;33m\u001b[0m\u001b[0m\n\u001b[0m\u001b[0;32m      4\u001b[0m \u001b[0mdf_test\u001b[0m \u001b[1;33m=\u001b[0m \u001b[0mekstrak\u001b[0m\u001b[1;33m(\u001b[0m\u001b[0mpath_test\u001b[0m\u001b[1;33m)\u001b[0m\u001b[1;33m\u001b[0m\u001b[1;33m\u001b[0m\u001b[0m\n\u001b[0;32m      5\u001b[0m \u001b[0mdf_train\u001b[0m\u001b[1;33m.\u001b[0m\u001b[0mhead\u001b[0m\u001b[1;33m(\u001b[0m\u001b[1;33m)\u001b[0m\u001b[1;33m,\u001b[0m \u001b[0mdf_test\u001b[0m\u001b[1;33m.\u001b[0m\u001b[0mhead\u001b[0m\u001b[1;33m(\u001b[0m\u001b[1;33m)\u001b[0m\u001b[1;33m\u001b[0m\u001b[1;33m\u001b[0m\u001b[0m\n",
      "\u001b[1;32md:\\github\\Tugas - KNN\\KNN_Python(analysis)\\ekstraksi_fitur.py\u001b[0m in \u001b[0;36mekstrak\u001b[1;34m(PATH)\u001b[0m\n\u001b[0;32m    144\u001b[0m         \u001b[0mda\u001b[0m\u001b[1;33m.\u001b[0m\u001b[0mappend\u001b[0m\u001b[1;33m(\u001b[0m\u001b[0mPATH\u001b[0m\u001b[1;33m[\u001b[0m\u001b[0mj\u001b[0m\u001b[1;33m]\u001b[0m\u001b[1;33m)\u001b[0m\u001b[1;33m\u001b[0m\u001b[1;33m\u001b[0m\u001b[0m\n\u001b[0;32m    145\u001b[0m         \u001b[1;32mfor\u001b[0m \u001b[0mi\u001b[0m \u001b[1;32min\u001b[0m \u001b[0mhasil\u001b[0m\u001b[1;33m[\u001b[0m\u001b[0mj\u001b[0m\u001b[1;33m]\u001b[0m\u001b[1;33m:\u001b[0m\u001b[1;33m\u001b[0m\u001b[1;33m\u001b[0m\u001b[0m\n\u001b[1;32m--> 146\u001b[1;33m             \u001b[0mda\u001b[0m\u001b[1;33m.\u001b[0m\u001b[0mappend\u001b[0m\u001b[1;33m(\u001b[0m\u001b[0menergy\u001b[0m\u001b[1;33m(\u001b[0m\u001b[0mi\u001b[0m\u001b[1;33m)\u001b[0m\u001b[1;33m)\u001b[0m\u001b[1;33m\u001b[0m\u001b[1;33m\u001b[0m\u001b[0m\n\u001b[0m\u001b[0;32m    147\u001b[0m             \u001b[0mda\u001b[0m\u001b[1;33m.\u001b[0m\u001b[0mappend\u001b[0m\u001b[1;33m(\u001b[0m\u001b[0mhomogentitas\u001b[0m\u001b[1;33m(\u001b[0m\u001b[0mi\u001b[0m\u001b[1;33m)\u001b[0m\u001b[1;33m)\u001b[0m\u001b[1;33m\u001b[0m\u001b[1;33m\u001b[0m\u001b[0m\n\u001b[0;32m    148\u001b[0m             \u001b[0mda\u001b[0m\u001b[1;33m.\u001b[0m\u001b[0mappend\u001b[0m\u001b[1;33m(\u001b[0m\u001b[0mentropy\u001b[0m\u001b[1;33m(\u001b[0m\u001b[0mi\u001b[0m\u001b[1;33m)\u001b[0m\u001b[1;33m)\u001b[0m\u001b[1;33m\u001b[0m\u001b[1;33m\u001b[0m\u001b[0m\n",
      "\u001b[1;32md:\\github\\Tugas - KNN\\KNN_Python(analysis)\\ekstraksi_fitur.py\u001b[0m in \u001b[0;36mcontras\u001b[1;34m(data)\u001b[0m\n\u001b[0;32m    111\u001b[0m \u001b[1;33m\u001b[0m\u001b[0m\n\u001b[0;32m    112\u001b[0m     \u001b[1;32mdef\u001b[0m \u001b[0mcontras\u001b[0m\u001b[1;33m(\u001b[0m\u001b[0mdata\u001b[0m\u001b[1;33m)\u001b[0m\u001b[1;33m:\u001b[0m\u001b[1;33m\u001b[0m\u001b[1;33m\u001b[0m\u001b[0m\n\u001b[1;32m--> 113\u001b[1;33m         \u001b[0mcontras\u001b[0m \u001b[1;33m=\u001b[0m \u001b[1;36m0\u001b[0m\u001b[1;33m\u001b[0m\u001b[1;33m\u001b[0m\u001b[0m\n\u001b[0m\u001b[0;32m    114\u001b[0m         \u001b[1;32mfor\u001b[0m \u001b[0mi\u001b[0m \u001b[1;32min\u001b[0m \u001b[0mrange\u001b[0m\u001b[1;33m(\u001b[0m\u001b[0mlen\u001b[0m\u001b[1;33m(\u001b[0m\u001b[0mdata\u001b[0m\u001b[1;33m)\u001b[0m\u001b[1;33m)\u001b[0m\u001b[1;33m:\u001b[0m\u001b[1;33m\u001b[0m\u001b[1;33m\u001b[0m\u001b[0m\n\u001b[0;32m    115\u001b[0m             \u001b[1;32mfor\u001b[0m \u001b[0mj\u001b[0m \u001b[1;32min\u001b[0m \u001b[0mrange\u001b[0m\u001b[1;33m(\u001b[0m\u001b[0mlen\u001b[0m\u001b[1;33m(\u001b[0m\u001b[0mdata\u001b[0m\u001b[1;33m)\u001b[0m\u001b[1;33m)\u001b[0m\u001b[1;33m:\u001b[0m\u001b[1;33m\u001b[0m\u001b[1;33m\u001b[0m\u001b[0m\n",
      "\u001b[1;31mKeyboardInterrupt\u001b[0m: "
     ]
    }
   ],
   "source": [
    "path_train = glob(\"dataset/train/*/*.jpg\")\n",
    "path_test = glob(\"dataset/test/*/*.jpg\")\n",
    "df_train = ekstrak(path_train)\n",
    "df_test = ekstrak(path_test)\n",
    "df_train.head(), df_test.head()"
   ]
  },
  {
   "cell_type": "markdown",
   "id": "b15d984a",
   "metadata": {},
   "source": [
    "# Save Extracted Dataset to .csv"
   ]
  },
  {
   "cell_type": "code",
   "execution_count": 6,
   "id": "05bd6c6f",
   "metadata": {},
   "outputs": [
    {
     "data": {
      "text/plain": [
       "(                                                file  energy_0  homogenity_0  \\\n",
       " 0  dataset/train\\Blight\\0569f31d-50e6-479a-bd60-4...  0.011214    330.148807   \n",
       " 1  dataset/train\\Blight\\0654aea3-e038-4876-8088-3...  0.017067    283.370755   \n",
       " 2  dataset/train\\Blight\\07f5df82-5df0-446f-a13a-d...  0.007951    219.807025   \n",
       " 3  dataset/train\\Blight\\09140ec5-e485-4770-9c5d-d...  0.000547    120.979884   \n",
       " 4  dataset/train\\Blight\\09160fba-83ce-4cec-887f-d...  0.012459    232.687438   \n",
       " \n",
       "    entrophy_0   contras_0  energy_45  homogenity_45  entrophy_45  contras_45  \\\n",
       " 0    8.092978  329.148807   0.011168     394.182900     8.142456  393.182900   \n",
       " 1    7.803183  282.370755   0.017005     396.875504     7.905336  395.875504   \n",
       " 2    7.876571  218.807025   0.007931     223.833964     7.887652  222.833964   \n",
       " 3    7.956551  119.979884   0.000536     136.978796     7.991276  135.978796   \n",
       " 4    7.956458  231.687438   0.012522     256.679955     8.006525  255.679955   \n",
       " \n",
       "    energy_90  homogenity_90  entrophy_90  contras_90  energy_135  \\\n",
       " 0   0.012262     229.191806     7.926461  228.191806    0.010931   \n",
       " 1   0.018798     237.159756     7.718977  236.159756    0.017017   \n",
       " 2   0.009158      92.937869     7.572803   91.937869    0.007793   \n",
       " 3   0.000844      47.011626     7.535551   46.011626    0.000532   \n",
       " 4   0.014583      62.376661     7.541721   61.376661    0.012401   \n",
       " \n",
       "    homogenity_135  entrophy_135  contras_135  Target  \n",
       " 0      448.110236      8.198891   447.110236  Blight  \n",
       " 1      433.448385      7.937162   432.448385  Blight  \n",
       " 2      313.973216      7.995246   312.973216  Blight  \n",
       " 3      125.378945      7.972554   124.378945  Blight  \n",
       " 4      261.101804      8.000132   260.101804  Blight  ,\n",
       "                                                 file  energy_0  homogenity_0  \\\n",
       " 0  dataset/test\\Blight\\00a14441-7a62-4034-bc40-b1...  0.131244    296.549582   \n",
       " 1  dataset/test\\Blight\\00a55069-3fa3-405b-8d87-4d...  0.032156    176.024114   \n",
       " 2  dataset/test\\Blight\\03c4fb76-81ce-4430-9927-9d...  0.175833    148.913878   \n",
       " 3  dataset/test\\Blight\\05eb5da2-11b6-4cce-9e01-72...  0.044512    277.372109   \n",
       " 4  dataset/test\\Blight\\0a62fe5a-22db-42e2-bca0-53...  0.000783    430.566683   \n",
       " \n",
       "    entrophy_0   contras_0  energy_45  homogenity_45  entrophy_45  contras_45  \\\n",
       " 0    5.907101  295.549582   0.130517     347.933722     5.946870  346.933722   \n",
       " 1    7.409674  175.024114   0.032110     211.007688     7.438048  210.007688   \n",
       " 2    5.337181  147.913878   0.175176     139.539215     5.336760  138.539215   \n",
       " 3    7.171218  276.372109   0.043611     281.746791     7.191404  280.746791   \n",
       " 4    8.499648  429.566683   0.000756     446.994358     8.510328  445.994358   \n",
       " \n",
       "    energy_90  homogenity_90  entrophy_90  contras_90  energy_135  \\\n",
       " 0   0.140481      81.096580     5.581650   80.096580    0.130847   \n",
       " 1   0.034275      86.498708     7.166115   85.498708    0.031854   \n",
       " 2   0.178926      82.174951     5.220676   81.174951    0.174741   \n",
       " 3   0.047806     103.371863     6.905399  102.371863    0.043843   \n",
       " 4   0.001414      71.020300     7.886055   70.020300    0.000740   \n",
       " \n",
       "    homogenity_135  entrophy_135  contras_135  Target  \n",
       " 0      307.268833      5.902506   306.268833  Blight  \n",
       " 1      253.959390      7.536026   252.959390  Blight  \n",
       " 2      209.331143      5.398660   208.331143  Blight  \n",
       " 3      350.364003      7.254291   349.364003  Blight  \n",
       " 4      481.563085      8.535649   480.563085  Blight  )"
      ]
     },
     "execution_count": 6,
     "metadata": {},
     "output_type": "execute_result"
    }
   ],
   "source": [
    "# df_train.to_csv(r'df_train.csv', index=False)\n",
    "# df_test.to_csv(r'test.csv', index=False)\n",
    "df_train = pd.read_csv('df_train.csv')\n",
    "df_test = pd.read_csv('df_test.csv')\n",
    "df_train.head(), df_test.head()"
   ]
  },
  {
   "cell_type": "markdown",
   "id": "80819a06",
   "metadata": {},
   "source": [
    "# Find the best n_neighbor"
   ]
  },
  {
   "cell_type": "code",
   "execution_count": 49,
   "id": "d423b25a",
   "metadata": {},
   "outputs": [],
   "source": [
    "from sklearn.neighbors import KNeighborsClassifier\n",
    "from sklearn.preprocessing import MinMaxScaler\n",
    "\n",
    "\n",
    "def split(data):\n",
    "    # X = data.drop(columns=[\"Target\", \"file\"])\n",
    "    X = data.drop(columns=['file', \n",
    "    'energy_0', \n",
    "    'homogenity_0', \n",
    "    'entrophy_0', \n",
    "    'contras_0', \n",
    "    # 'energy_45', \n",
    "    # 'homogenity_45', \n",
    "    # 'entrophy_45', \n",
    "    # 'contras_45',\n",
    "    # 'energy_90', \n",
    "    # 'homogenity_90', \n",
    "    # 'entrophy_90', \n",
    "    # 'contras_90', \n",
    "    # 'energy_135', \n",
    "    # 'homogenity_135', \n",
    "    # 'entrophy_135', \n",
    "    # 'contras_135', \n",
    "    'Target'])\n",
    "    y = data.Target\n",
    "    return X, y\n",
    "\n",
    "\n",
    "def predict_knn(train, test, neighbor):\n",
    "    X_train, y_train = split(train)\n",
    "    X_test, y_test = split(test)\n",
    "\n",
    "    scaler = MinMaxScaler()\n",
    "    scaler.fit(X_train)\n",
    "\n",
    "    X_train_scaled = scaler.transform(X_train)\n",
    "    X_test_scaled = scaler.transform(X_test)\n",
    "\n",
    "    train_score = []\n",
    "    test_score = []\n",
    "\n",
    "    for k in neighbor:\n",
    "        knn = KNeighborsClassifier(n_neighbors=k)\n",
    "        knn.fit(X_train_scaled, y_train)\n",
    "\n",
    "        train_score.append(knn.score(X_train_scaled, y_train))\n",
    "        test_score.append(knn.score(X_test_scaled, y_test))\n",
    "        \n",
    "    return train_score, test_score, X_test_scaled"
   ]
  },
  {
   "cell_type": "code",
   "execution_count": 50,
   "id": "b6f005d8",
   "metadata": {
    "scrolled": true
   },
   "outputs": [
    {
     "name": "stdout",
     "output_type": "stream",
     "text": [
      "Max test score: 0.8916666666666667\n",
      "n_neighbor: 5\n"
     ]
    },
    {
     "data": {
      "image/png": "[encoded data removed]",
      "text/plain": [
       "<Figure size 432x288 with 1 Axes>"
      ]
     },
     "metadata": {
      "needs_background": "light"
     },
     "output_type": "display_data"
    }
   ],
   "source": [
    "neighbor = range(1, 51, 2)\n",
    "train_score, test_score, X_test_scaled = predict_knn(df_train, df_test, neighbor)\n",
    "\n",
    "plt.plot(neighbor, train_score, label=\"train\")\n",
    "plt.plot(neighbor, test_score, label=\"test\")\n",
    "plt.legend()\n",
    "\n",
    "print(f\"Max test score: {np.max(test_score)}\")\n",
    "print(f\"n_neighbor: {neighbor[np.argmax(test_score)]}\")"
   ]
  },
  {
   "cell_type": "code",
   "execution_count": 22,
   "id": "c177cbab",
   "metadata": {},
   "outputs": [
    {
     "data": {
      "text/html": [
       "<div>\n",
       "<style scoped>\n",
       "    .dataframe tbody tr th:only-of-type {\n",
       "        vertical-align: middle;\n",
       "    }\n",
       "\n",
       "    .dataframe tbody tr th {\n",
       "        vertical-align: top;\n",
       "    }\n",
       "\n",
       "    .dataframe thead th {\n",
       "        text-align: right;\n",
       "    }\n",
       "</style>\n",
       "<table border=\"1\" class=\"dataframe\">\n",
       "  <thead>\n",
       "    <tr style=\"text-align: right;\">\n",
       "      <th></th>\n",
       "      <th>0</th>\n",
       "      <th>1</th>\n",
       "      <th>2</th>\n",
       "      <th>3</th>\n",
       "      <th>4</th>\n",
       "      <th>5</th>\n",
       "      <th>6</th>\n",
       "      <th>7</th>\n",
       "      <th>8</th>\n",
       "      <th>9</th>\n",
       "      <th>10</th>\n",
       "      <th>11</th>\n",
       "      <th>12</th>\n",
       "      <th>13</th>\n",
       "      <th>14</th>\n",
       "      <th>15</th>\n",
       "    </tr>\n",
       "  </thead>\n",
       "  <tbody>\n",
       "    <tr>\n",
       "      <th>0</th>\n",
       "      <td>0.445326</td>\n",
       "      <td>0.268808</td>\n",
       "      <td>0.360667</td>\n",
       "      <td>0.268808</td>\n",
       "      <td>0.445501</td>\n",
       "      <td>0.302567</td>\n",
       "      <td>0.367903</td>\n",
       "      <td>0.302567</td>\n",
       "      <td>0.460907</td>\n",
       "      <td>0.176738</td>\n",
       "      <td>0.327401</td>\n",
       "      <td>0.176738</td>\n",
       "      <td>0.445325</td>\n",
       "      <td>0.269395</td>\n",
       "      <td>0.356445</td>\n",
       "      <td>0.269395</td>\n",
       "    </tr>\n",
       "    <tr>\n",
       "      <th>1</th>\n",
       "      <td>0.108592</td>\n",
       "      <td>0.154280</td>\n",
       "      <td>0.691360</td>\n",
       "      <td>0.154280</td>\n",
       "      <td>0.109088</td>\n",
       "      <td>0.179534</td>\n",
       "      <td>0.698897</td>\n",
       "      <td>0.179534</td>\n",
       "      <td>0.111906</td>\n",
       "      <td>0.189194</td>\n",
       "      <td>0.669559</td>\n",
       "      <td>0.189194</td>\n",
       "      <td>0.107908</td>\n",
       "      <td>0.220792</td>\n",
       "      <td>0.716664</td>\n",
       "      <td>0.220792</td>\n",
       "    </tr>\n",
       "    <tr>\n",
       "      <th>2</th>\n",
       "      <td>0.596854</td>\n",
       "      <td>0.128518</td>\n",
       "      <td>0.235236</td>\n",
       "      <td>0.128518</td>\n",
       "      <td>0.598172</td>\n",
       "      <td>0.115316</td>\n",
       "      <td>0.232478</td>\n",
       "      <td>0.115316</td>\n",
       "      <td>0.587241</td>\n",
       "      <td>0.179225</td>\n",
       "      <td>0.249451</td>\n",
       "      <td>0.179225</td>\n",
       "      <td>0.594937</td>\n",
       "      <td>0.180103</td>\n",
       "      <td>0.245338</td>\n",
       "      <td>0.180103</td>\n",
       "    </tr>\n",
       "    <tr>\n",
       "      <th>3</th>\n",
       "      <td>0.150580</td>\n",
       "      <td>0.250585</td>\n",
       "      <td>0.638880</td>\n",
       "      <td>0.250585</td>\n",
       "      <td>0.148404</td>\n",
       "      <td>0.243096</td>\n",
       "      <td>0.644150</td>\n",
       "      <td>0.243096</td>\n",
       "      <td>0.156370</td>\n",
       "      <td>0.228100</td>\n",
       "      <td>0.613258</td>\n",
       "      <td>0.228100</td>\n",
       "      <td>0.148773</td>\n",
       "      <td>0.308686</td>\n",
       "      <td>0.654537</td>\n",
       "      <td>0.308686</td>\n",
       "    </tr>\n",
       "    <tr>\n",
       "      <th>4</th>\n",
       "      <td>0.001975</td>\n",
       "      <td>0.396156</td>\n",
       "      <td>0.931247</td>\n",
       "      <td>0.396156</td>\n",
       "      <td>0.001899</td>\n",
       "      <td>0.391577</td>\n",
       "      <td>0.936909</td>\n",
       "      <td>0.391577</td>\n",
       "      <td>0.003924</td>\n",
       "      <td>0.153504</td>\n",
       "      <td>0.825026</td>\n",
       "      <td>0.153504</td>\n",
       "      <td>0.001857</td>\n",
       "      <td>0.428303</td>\n",
       "      <td>0.937098</td>\n",
       "      <td>0.428303</td>\n",
       "    </tr>\n",
       "    <tr>\n",
       "      <th>...</th>\n",
       "      <td>...</td>\n",
       "      <td>...</td>\n",
       "      <td>...</td>\n",
       "      <td>...</td>\n",
       "      <td>...</td>\n",
       "      <td>...</td>\n",
       "      <td>...</td>\n",
       "      <td>...</td>\n",
       "      <td>...</td>\n",
       "      <td>...</td>\n",
       "      <td>...</td>\n",
       "      <td>...</td>\n",
       "      <td>...</td>\n",
       "      <td>...</td>\n",
       "      <td>...</td>\n",
       "      <td>...</td>\n",
       "    </tr>\n",
       "    <tr>\n",
       "      <th>235</th>\n",
       "      <td>0.000390</td>\n",
       "      <td>0.229411</td>\n",
       "      <td>0.936740</td>\n",
       "      <td>0.229411</td>\n",
       "      <td>0.000718</td>\n",
       "      <td>0.075899</td>\n",
       "      <td>0.864284</td>\n",
       "      <td>0.075899</td>\n",
       "      <td>0.000381</td>\n",
       "      <td>0.506443</td>\n",
       "      <td>0.950644</td>\n",
       "      <td>0.506443</td>\n",
       "      <td>0.000280</td>\n",
       "      <td>0.323144</td>\n",
       "      <td>0.960566</td>\n",
       "      <td>0.323144</td>\n",
       "    </tr>\n",
       "    <tr>\n",
       "      <th>236</th>\n",
       "      <td>0.002319</td>\n",
       "      <td>0.027493</td>\n",
       "      <td>0.706750</td>\n",
       "      <td>0.027493</td>\n",
       "      <td>0.001192</td>\n",
       "      <td>0.161758</td>\n",
       "      <td>0.810588</td>\n",
       "      <td>0.161758</td>\n",
       "      <td>0.001498</td>\n",
       "      <td>0.224281</td>\n",
       "      <td>0.795102</td>\n",
       "      <td>0.224281</td>\n",
       "      <td>0.002298</td>\n",
       "      <td>0.024957</td>\n",
       "      <td>0.700279</td>\n",
       "      <td>0.024957</td>\n",
       "    </tr>\n",
       "    <tr>\n",
       "      <th>237</th>\n",
       "      <td>0.000496</td>\n",
       "      <td>0.146047</td>\n",
       "      <td>0.891971</td>\n",
       "      <td>0.146047</td>\n",
       "      <td>0.000404</td>\n",
       "      <td>0.173862</td>\n",
       "      <td>0.911685</td>\n",
       "      <td>0.173862</td>\n",
       "      <td>0.000184</td>\n",
       "      <td>0.754044</td>\n",
       "      <td>0.967478</td>\n",
       "      <td>0.754044</td>\n",
       "      <td>0.000251</td>\n",
       "      <td>0.326327</td>\n",
       "      <td>0.946441</td>\n",
       "      <td>0.326327</td>\n",
       "    </tr>\n",
       "    <tr>\n",
       "      <th>238</th>\n",
       "      <td>0.002688</td>\n",
       "      <td>0.040784</td>\n",
       "      <td>0.676519</td>\n",
       "      <td>0.040784</td>\n",
       "      <td>0.002261</td>\n",
       "      <td>0.057236</td>\n",
       "      <td>0.702204</td>\n",
       "      <td>0.057236</td>\n",
       "      <td>0.003208</td>\n",
       "      <td>0.070158</td>\n",
       "      <td>0.661918</td>\n",
       "      <td>0.070158</td>\n",
       "      <td>0.002655</td>\n",
       "      <td>0.046760</td>\n",
       "      <td>0.681513</td>\n",
       "      <td>0.046760</td>\n",
       "    </tr>\n",
       "    <tr>\n",
       "      <th>239</th>\n",
       "      <td>0.000524</td>\n",
       "      <td>0.132932</td>\n",
       "      <td>0.899578</td>\n",
       "      <td>0.132932</td>\n",
       "      <td>0.000549</td>\n",
       "      <td>0.117633</td>\n",
       "      <td>0.897164</td>\n",
       "      <td>0.117633</td>\n",
       "      <td>0.001248</td>\n",
       "      <td>0.081381</td>\n",
       "      <td>0.821468</td>\n",
       "      <td>0.081381</td>\n",
       "      <td>0.000500</td>\n",
       "      <td>0.146526</td>\n",
       "      <td>0.906000</td>\n",
       "      <td>0.146526</td>\n",
       "    </tr>\n",
       "  </tbody>\n",
       "</table>\n",
       "<p>240 rows × 16 columns</p>\n",
       "</div>"
      ],
      "text/plain": [
       "           0         1         2         3         4         5         6   \\\n",
       "0    0.445326  0.268808  0.360667  0.268808  0.445501  0.302567  0.367903   \n",
       "1    0.108592  0.154280  0.691360  0.154280  0.109088  0.179534  0.698897   \n",
       "2    0.596854  0.128518  0.235236  0.128518  0.598172  0.115316  0.232478   \n",
       "3    0.150580  0.250585  0.638880  0.250585  0.148404  0.243096  0.644150   \n",
       "4    0.001975  0.396156  0.931247  0.396156  0.001899  0.391577  0.936909   \n",
       "..        ...       ...       ...       ...       ...       ...       ...   \n",
       "235  0.000390  0.229411  0.936740  0.229411  0.000718  0.075899  0.864284   \n",
       "236  0.002319  0.027493  0.706750  0.027493  0.001192  0.161758  0.810588   \n",
       "237  0.000496  0.146047  0.891971  0.146047  0.000404  0.173862  0.911685   \n",
       "238  0.002688  0.040784  0.676519  0.040784  0.002261  0.057236  0.702204   \n",
       "239  0.000524  0.132932  0.899578  0.132932  0.000549  0.117633  0.897164   \n",
       "\n",
       "           7         8         9         10        11        12        13  \\\n",
       "0    0.302567  0.460907  0.176738  0.327401  0.176738  0.445325  0.269395   \n",
       "1    0.179534  0.111906  0.189194  0.669559  0.189194  0.107908  0.220792   \n",
       "2    0.115316  0.587241  0.179225  0.249451  0.179225  0.594937  0.180103   \n",
       "3    0.243096  0.156370  0.228100  0.613258  0.228100  0.148773  0.308686   \n",
       "4    0.391577  0.003924  0.153504  0.825026  0.153504  0.001857  0.428303   \n",
       "..        ...       ...       ...       ...       ...       ...       ...   \n",
       "235  0.075899  0.000381  0.506443  0.950644  0.506443  0.000280  0.323144   \n",
       "236  0.161758  0.001498  0.224281  0.795102  0.224281  0.002298  0.024957   \n",
       "237  0.173862  0.000184  0.754044  0.967478  0.754044  0.000251  0.326327   \n",
       "238  0.057236  0.003208  0.070158  0.661918  0.070158  0.002655  0.046760   \n",
       "239  0.117633  0.001248  0.081381  0.821468  0.081381  0.000500  0.146526   \n",
       "\n",
       "           14        15  \n",
       "0    0.356445  0.269395  \n",
       "1    0.716664  0.220792  \n",
       "2    0.245338  0.180103  \n",
       "3    0.654537  0.308686  \n",
       "4    0.937098  0.428303  \n",
       "..        ...       ...  \n",
       "235  0.960566  0.323144  \n",
       "236  0.700279  0.024957  \n",
       "237  0.946441  0.326327  \n",
       "238  0.681513  0.046760  \n",
       "239  0.906000  0.146526  \n",
       "\n",
       "[240 rows x 16 columns]"
      ]
     },
     "execution_count": 22,
     "metadata": {},
     "output_type": "execute_result"
    }
   ],
   "source": [
    "df = pd.DataFrame(X_test_scaled)\n",
    "df"
   ]
  },
  {
   "cell_type": "markdown",
   "id": "17d3034c",
   "metadata": {},
   "source": [
    "# Training Data"
   ]
  },
  {
   "cell_type": "code",
   "execution_count": 101,
   "id": "108cec03",
   "metadata": {},
   "outputs": [
    {
     "data": {
      "text/plain": [
       "KNeighborsClassifier(n_neighbors=11)"
      ]
     },
     "execution_count": 101,
     "metadata": {},
     "output_type": "execute_result"
    }
   ],
   "source": [
    "knn = KNeighborsClassifier(n_neighbors= neighbor[np.argmax(test_score)])\n",
    "knn.fit(X_train_scaled, y_train)"
   ]
  },
  {
   "cell_type": "markdown",
   "id": "88726532",
   "metadata": {},
   "source": [
    "# Save Model"
   ]
  },
  {
   "cell_type": "code",
   "execution_count": 102,
   "id": "18c22cd1",
   "metadata": {},
   "outputs": [
    {
     "name": "stdout",
     "output_type": "stream",
     "text": [
      "Model is pickled as model/model.pkl\n"
     ]
    }
   ],
   "source": [
    "# save_model(knn, \"model.pkl\")"
   ]
  },
  {
   "cell_type": "markdown",
   "id": "9c9fc892",
   "metadata": {},
   "source": [
    "# Load Model"
   ]
  },
  {
   "cell_type": "code",
   "execution_count": 103,
   "id": "679ee6a6",
   "metadata": {},
   "outputs": [
    {
     "data": {
      "text/plain": [
       "KNeighborsClassifier(n_neighbors=11)"
      ]
     },
     "execution_count": 103,
     "metadata": {},
     "output_type": "execute_result"
    }
   ],
   "source": [
    "new_model = load_model('model/model.pkl')\n",
    "new_model"
   ]
  },
  {
   "cell_type": "markdown",
   "id": "345f02f5",
   "metadata": {},
   "source": [
    "# Predict"
   ]
  },
  {
   "cell_type": "code",
   "execution_count": 104,
   "id": "40d66d5d",
   "metadata": {},
   "outputs": [
    {
     "data": {
      "text/plain": [
       "array(['Blight'], dtype=object)"
      ]
     },
     "execution_count": 104,
     "metadata": {},
     "output_type": "execute_result"
    }
   ],
   "source": [
    "new_model.predict(X_test_scaled[:1])"
   ]
  },
  {
   "cell_type": "code",
   "execution_count": null,
   "id": "7dc5c46c",
   "metadata": {},
   "outputs": [],
   "source": []
  }
 ],
 "metadata": {
  "interpreter": {
   "hash": "60c46132725baad6f733301d4799197a87b22772a6daa31ed991cc56b28bae1b"
  },
  "kernelspec": {
   "display_name": "Python [conda env:knn] *",
   "language": "python",
   "name": "python3"
  },
  "language_info": {
   "codemirror_mode": {
    "name": "ipython",
    "version": 3
   },
   "file_extension": ".py",
   "mimetype": "text/x-python",
   "name": "python",
   "nbconvert_exporter": "python",
   "pygments_lexer": "ipython3",
   "version": "3.9.7"
  },
  "varInspector": {
   "cols": {
    "lenName": 16,
    "lenType": 16,
    "lenVar": 40
   },
   "kernels_config": {
    "python": {
     "delete_cmd_postfix": "",
     "delete_cmd_prefix": "del ",
     "library": "var_list.py",
     "varRefreshCmd": "print(var_dic_list())"
    },
    "r": {
     "delete_cmd_postfix": ") ",
     "delete_cmd_prefix": "rm(",
     "library": "var_list.r",
     "varRefreshCmd": "cat(var_dic_list()) "
    }
   },
   "types_to_exclude": [
    "module",
    "function",
    "builtin_function_or_method",
    "instance",
    "_Feature"
   ],
   "window_display": false
  }
 },
 "nbformat": 4,
 "nbformat_minor": 5
}
