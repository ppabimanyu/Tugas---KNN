{
 "cells": [
  {
   "cell_type": "code",
   "execution_count": 44,
   "id": "dff21b6a",
   "metadata": {},
   "outputs": [],
   "source": [
    "import numpy as np\n",
    "import cv2\n",
    "import matplotlib.pyplot as plt\n",
    "import math\n",
    "import pandas as pd\n",
    "from tqdm import tqdm\n",
    "from glob import glob\n",
    "from sklearn.neighbors import KNeighborsClassifier\n",
    "from sklearn.preprocessing import MinMaxScaler\n",
    "from jcopml.utils import save_model, load_model\n",
    "from ekstraksi_fitur import ekstrak\n",
    "from knna import predict_knn"
   ]
  },
  {
   "cell_type": "markdown",
   "id": "5019765d",
   "metadata": {},
   "source": [
    "# Feature Extraction GLCM"
   ]
  },
  {
   "cell_type": "code",
   "execution_count": 3,
   "id": "e432c632",
   "metadata": {},
   "outputs": [
    {
     "name": "stderr",
     "output_type": "stream",
     "text": [
      "load: 100%|█████████████████████████████████████████████████████████████████████████| 960/960 [00:04<00:00, 198.32it/s]\n",
      "GLCM: 100%|██████████████████████████████████████████████████████████████████████████| 960/960 [02:18<00:00,  6.95it/s]\n",
      "Ekstraksi: 100%|█████████████████████████████████████████████████████████████████████| 960/960 [06:39<00:00,  2.40it/s]\n",
      "load: 100%|██████████████████████████████████████████████████████████████████████████| 240/240 [00:08<00:00, 28.69it/s]\n",
      "GLCM: 100%|██████████████████████████████████████████████████████████████████████████| 240/240 [00:38<00:00,  6.26it/s]\n",
      "Ekstraksi: 100%|█████████████████████████████████████████████████████████████████████| 240/240 [01:46<00:00,  2.26it/s]\n"
     ]
    },
    {
     "data": {
      "text/plain": [
       "(                                                file  energy_0  homogenity_0  \\\n",
       " 0  dataset/train\\Blight\\0569f31d-50e6-479a-bd60-4...  0.011214    330.148807   \n",
       " 1  dataset/train\\Blight\\0654aea3-e038-4876-8088-3...  0.017067    283.370755   \n",
       " 2  dataset/train\\Blight\\07f5df82-5df0-446f-a13a-d...  0.007951    219.807025   \n",
       " 3  dataset/train\\Blight\\09140ec5-e485-4770-9c5d-d...  0.000547    120.979884   \n",
       " 4  dataset/train\\Blight\\09160fba-83ce-4cec-887f-d...  0.012459    232.687438   \n",
       " \n",
       "    entrophy_0   contras_0  energy_45  homogenity_45  entrophy_45  contras_45  \\\n",
       " 0    8.092978  329.148807   0.011168     394.182900     8.142456  393.182900   \n",
       " 1    7.803183  282.370755   0.017005     396.875504     7.905336  395.875504   \n",
       " 2    7.876571  218.807025   0.007931     223.833964     7.887652  222.833964   \n",
       " 3    7.956551  119.979884   0.000536     136.978796     7.991276  135.978796   \n",
       " 4    7.956458  231.687438   0.012522     256.679955     8.006525  255.679955   \n",
       " \n",
       "    energy_90  homogenity_90  entrophy_90  contras_90  energy_135  \\\n",
       " 0   0.012262     229.191806     7.926461  228.191806    0.010931   \n",
       " 1   0.018798     237.159756     7.718977  236.159756    0.017017   \n",
       " 2   0.009158      92.937869     7.572803   91.937869    0.007793   \n",
       " 3   0.000844      47.011626     7.535551   46.011626    0.000532   \n",
       " 4   0.014583      62.376661     7.541721   61.376661    0.012401   \n",
       " \n",
       "    homogenity_135  entrophy_135  contras_135  Target  \n",
       " 0      448.110236      8.198891   447.110236  Blight  \n",
       " 1      433.448385      7.937162   432.448385  Blight  \n",
       " 2      313.973216      7.995246   312.973216  Blight  \n",
       " 3      125.378945      7.972554   124.378945  Blight  \n",
       " 4      261.101804      8.000132   260.101804  Blight  ,\n",
       "                                                 file  energy_0  homogenity_0  \\\n",
       " 0  dataset/test\\Blight\\00a14441-7a62-4034-bc40-b1...  0.131244    296.549582   \n",
       " 1  dataset/test\\Blight\\00a55069-3fa3-405b-8d87-4d...  0.032156    176.024114   \n",
       " 2  dataset/test\\Blight\\03c4fb76-81ce-4430-9927-9d...  0.175833    148.913878   \n",
       " 3  dataset/test\\Blight\\05eb5da2-11b6-4cce-9e01-72...  0.044512    277.372109   \n",
       " 4  dataset/test\\Blight\\0a62fe5a-22db-42e2-bca0-53...  0.000783    430.566683   \n",
       " \n",
       "    entrophy_0   contras_0  energy_45  homogenity_45  entrophy_45  contras_45  \\\n",
       " 0    5.907101  295.549582   0.130517     347.933722     5.946870  346.933722   \n",
       " 1    7.409674  175.024114   0.032110     211.007688     7.438048  210.007688   \n",
       " 2    5.337181  147.913878   0.175176     139.539215     5.336760  138.539215   \n",
       " 3    7.171218  276.372109   0.043611     281.746791     7.191404  280.746791   \n",
       " 4    8.499648  429.566683   0.000756     446.994358     8.510328  445.994358   \n",
       " \n",
       "    energy_90  homogenity_90  entrophy_90  contras_90  energy_135  \\\n",
       " 0   0.140481      81.096580     5.581650   80.096580    0.130847   \n",
       " 1   0.034275      86.498708     7.166115   85.498708    0.031854   \n",
       " 2   0.178926      82.174951     5.220676   81.174951    0.174741   \n",
       " 3   0.047806     103.371863     6.905399  102.371863    0.043843   \n",
       " 4   0.001414      71.020300     7.886055   70.020300    0.000740   \n",
       " \n",
       "    homogenity_135  entrophy_135  contras_135  Target  \n",
       " 0      307.268833      5.902506   306.268833  Blight  \n",
       " 1      253.959390      7.536026   252.959390  Blight  \n",
       " 2      209.331143      5.398660   208.331143  Blight  \n",
       " 3      350.364003      7.254291   349.364003  Blight  \n",
       " 4      481.563085      8.535649   480.563085  Blight  )"
      ]
     },
     "execution_count": 3,
     "metadata": {},
     "output_type": "execute_result"
    }
   ],
   "source": [
    "path_train = glob(\"dataset/train/*/*.jpg\")\n",
    "path_test = glob(\"dataset/test/*/*.jpg\")\n",
    "df_train = ekstrak(path_train)\n",
    "df_test = ekstrak(path_test)\n",
    "df_train.head(), df_test.head()"
   ]
  },
  {
   "cell_type": "markdown",
   "id": "b15d984a",
   "metadata": {},
   "source": [
    "# Save Extracted Dataset to .csv"
   ]
  },
  {
   "cell_type": "code",
   "execution_count": 82,
   "id": "05bd6c6f",
   "metadata": {},
   "outputs": [],
   "source": [
    "# df_train.to_csv(r'df_train.csv', index=False)\n",
    "# df_test.to_csv(r'df_test.csv', index=False)"
   ]
  },
  {
   "cell_type": "markdown",
   "id": "80819a06",
   "metadata": {},
   "source": [
    "# Find the best n_neighbor"
   ]
  },
  {
   "cell_type": "code",
   "execution_count": 91,
   "id": "d423b25a",
   "metadata": {},
   "outputs": [],
   "source": [
    "from sklearn.neighbors import KNeighborsClassifier\n",
    "from sklearn.preprocessing import MinMaxScaler\n",
    "\n",
    "\n",
    "def split(data):\n",
    "    X = data.drop(columns=[\"Target\", \"file\"])\n",
    "    y = data.Target\n",
    "    return X, y\n",
    "\n",
    "\n",
    "def predict_knn(train, test, neighbor):\n",
    "    X_train, y_train = split(train)\n",
    "    X_test, y_test = split(test)\n",
    "\n",
    "    scaler = MinMaxScaler()\n",
    "    scaler.fit(X_train)\n",
    "\n",
    "    X_train_scaled = scaler.transform(X_train)\n",
    "    X_test_scaled = scaler.transform(X_test)\n",
    "\n",
    "    train_score = []\n",
    "    test_score = []\n",
    "\n",
    "    for k in neighbor:\n",
    "        knn = KNeighborsClassifier(n_neighbors=k)\n",
    "        knn.fit(X_train_scaled, y_train)\n",
    "\n",
    "        train_score.append(knn.score(X_train_scaled, y_train))\n",
    "        test_score.append(knn.score(X_test_scaled, y_test))\n",
    "        \n",
    "    return train_score, test_score, X_test_scaled"
   ]
  },
  {
   "cell_type": "code",
   "execution_count": 99,
   "id": "b6f005d8",
   "metadata": {
    "scrolled": true
   },
   "outputs": [
    {
     "name": "stdout",
     "output_type": "stream",
     "text": [
      "Max test score: 0.8791666666666667\n",
      "n_neighbor: 11\n"
     ]
    },
    {
     "data": {
      "image/png": "[encoded data removed]",
      "text/plain": [
       "<Figure size 432x288 with 1 Axes>"
      ]
     },
     "metadata": {
      "needs_background": "light"
     },
     "output_type": "display_data"
    }
   ],
   "source": [
    "neighbor = range(1, 51, 2)\n",
    "train_score, test_score, X_test_scaled = predict_knn(df_train, df_test, neighbor)\n",
    "\n",
    "plt.plot(neighbor, train_score, label=\"train\")\n",
    "plt.plot(neighbor, test_score, label=\"test\")\n",
    "plt.legend()\n",
    "\n",
    "print(f\"Max test score: {np.max(test_score)}\")\n",
    "print(f\"n_neighbor: {neighbor[np.argmax(test_score)]}\")"
   ]
  },
  {
   "cell_type": "markdown",
   "id": "17d3034c",
   "metadata": {},
   "source": [
    "# Training Data"
   ]
  },
  {
   "cell_type": "code",
   "execution_count": 101,
   "id": "108cec03",
   "metadata": {},
   "outputs": [
    {
     "data": {
      "text/plain": [
       "KNeighborsClassifier(n_neighbors=11)"
      ]
     },
     "execution_count": 101,
     "metadata": {},
     "output_type": "execute_result"
    }
   ],
   "source": [
    "knn = KNeighborsClassifier(n_neighbors= neighbor[np.argmax(test_score)])\n",
    "knn.fit(X_train_scaled, y_train)"
   ]
  },
  {
   "cell_type": "markdown",
   "id": "88726532",
   "metadata": {},
   "source": [
    "# Save Model"
   ]
  },
  {
   "cell_type": "code",
   "execution_count": 102,
   "id": "18c22cd1",
   "metadata": {},
   "outputs": [
    {
     "name": "stdout",
     "output_type": "stream",
     "text": [
      "Model is pickled as model/model.pkl\n"
     ]
    }
   ],
   "source": [
    "# save_model(knn, \"model.pkl\")"
   ]
  },
  {
   "cell_type": "markdown",
   "id": "9c9fc892",
   "metadata": {},
   "source": [
    "# Load Model"
   ]
  },
  {
   "cell_type": "code",
   "execution_count": 103,
   "id": "679ee6a6",
   "metadata": {},
   "outputs": [
    {
     "data": {
      "text/plain": [
       "KNeighborsClassifier(n_neighbors=11)"
      ]
     },
     "execution_count": 103,
     "metadata": {},
     "output_type": "execute_result"
    }
   ],
   "source": [
    "new_model = load_model('model/model.pkl')\n",
    "new_model"
   ]
  },
  {
   "cell_type": "markdown",
   "id": "345f02f5",
   "metadata": {},
   "source": [
    "# Predict"
   ]
  },
  {
   "cell_type": "code",
   "execution_count": 104,
   "id": "40d66d5d",
   "metadata": {},
   "outputs": [
    {
     "data": {
      "text/plain": [
       "array(['Blight'], dtype=object)"
      ]
     },
     "execution_count": 104,
     "metadata": {},
     "output_type": "execute_result"
    }
   ],
   "source": [
    "new_model.predict(X_test_scaled[:1])"
   ]
  },
  {
   "cell_type": "code",
   "execution_count": null,
   "id": "7dc5c46c",
   "metadata": {},
   "outputs": [],
   "source": []
  }
 ],
 "metadata": {
  "kernelspec": {
   "display_name": "Python [conda env:knn] *",
   "language": "python",
   "name": "conda-env-knn-py"
  },
  "language_info": {
   "codemirror_mode": {
    "name": "ipython",
    "version": 3
   },
   "file_extension": ".py",
   "mimetype": "text/x-python",
   "name": "python",
   "nbconvert_exporter": "python",
   "pygments_lexer": "ipython3",
   "version": "3.9.7"
  },
  "varInspector": {
   "cols": {
    "lenName": 16,
    "lenType": 16,
    "lenVar": 40
   },
   "kernels_config": {
    "python": {
     "delete_cmd_postfix": "",
     "delete_cmd_prefix": "del ",
     "library": "var_list.py",
     "varRefreshCmd": "print(var_dic_list())"
    },
    "r": {
     "delete_cmd_postfix": ") ",
     "delete_cmd_prefix": "rm(",
     "library": "var_list.r",
     "varRefreshCmd": "cat(var_dic_list()) "
    }
   },
   "types_to_exclude": [
    "module",
    "function",
    "builtin_function_or_method",
    "instance",
    "_Feature"
   ],
   "window_display": false
  }
 },
 "nbformat": 4,
 "nbformat_minor": 5
}
