{
 "cells": [
  {
   "cell_type": "markdown",
   "id": "254a894f",
   "metadata": {},
   "source": [
    "# Ekstraksi GLCM"
   ]
  },
  {
   "cell_type": "code",
   "execution_count": null,
   "id": "5c8bc38e",
   "metadata": {},
   "outputs": [],
   "source": [
    "import numpy as np\n",
    "import cv2 as cv\n",
    "import matplotlib.pyplot as plt\n",
    "import math\n",
    "import pandas as pd\n",
    "import imutils.paths as path\n",
    "from tqdm import tqdm\n",
    "from glob import glob"
   ]
  },
  {
   "cell_type": "code",
   "execution_count": null,
   "id": "ba68967d",
   "metadata": {},
   "outputs": [],
   "source": [
    "PATH = glob(\"filtered_data_fix/*/*.jpg\")\n",
    "PATH[:10]"
   ]
  },
  {
   "cell_type": "markdown",
   "id": "6631ae46",
   "metadata": {},
   "source": [
    "## Convert to GrayScale & Resize 128x128"
   ]
  },
  {
   "cell_type": "code",
   "execution_count": null,
   "id": "5de9e23b",
   "metadata": {},
   "outputs": [],
   "source": [
    "data = []\n",
    "for i in tqdm(PATH, desc=\"load\"):\n",
    "    fileImage = cv.imread(i)\n",
    "    img = cv.cvtColor(fileImage, cv.COLOR_BGR2GRAY)\n",
    "    a = cv.resize(img, (128, 128))\n",
    "    data.append(a)\n",
    "data[:5]"
   ]
  },
  {
   "cell_type": "code",
   "execution_count": null,
   "id": "8e56db3f",
   "metadata": {},
   "outputs": [],
   "source": [
    "def derajat0(img):\n",
    "    max = np.max(img)\n",
    "    imgTmp = np.zeros([max+1, max+1])\n",
    "    for i in range(len(img)):\n",
    "        for j in range(len(img[i])-1):\n",
    "            imgTmp[img[i,j], img[i, j+1]] += 1\n",
    "    \n",
    "    transpos = np.transpose(imgTmp)\n",
    "    data = imgTmp+transpos\n",
    "    \n",
    "    tmp = 0\n",
    "    for i in range(len(data)):\n",
    "        for j in range(len(data)):\n",
    "            tmp+=data[i, j]\n",
    "            \n",
    "    for i in range(len(data)):\n",
    "        for j in range(len(data)):\n",
    "            data[i, j]/=tmp\n",
    "    \n",
    "    return data"
   ]
  },
  {
   "cell_type": "code",
   "execution_count": null,
   "id": "920dd3d3",
   "metadata": {},
   "outputs": [],
   "source": [
    "def derajat45(img):\n",
    "    max = np.max(img)\n",
    "    imgTmp = np.zeros([max+1, max+1])\n",
    "    for i in range(len(img)-1):\n",
    "        for j in range(len(img[i])-1):\n",
    "            imgTmp[img[i+1,j], img[i, j+1]] += 1\n",
    "    \n",
    "    transpos = np.transpose(imgTmp)\n",
    "    data = imgTmp+transpos\n",
    "    \n",
    "    tmp = 0\n",
    "    for i in range(len(data)):\n",
    "        for j in range(len(data)):\n",
    "            tmp+=data[i, j]\n",
    "            \n",
    "    for i in range(len(data)):\n",
    "        for j in range(len(data)):\n",
    "            data[i, j]/=tmp\n",
    "    \n",
    "    return data"
   ]
  },
  {
   "cell_type": "code",
   "execution_count": null,
   "id": "95410a05",
   "metadata": {},
   "outputs": [],
   "source": [
    "def derajat90(img):\n",
    "    max = np.max(img)\n",
    "    imgTmp = np.zeros([max+1, max+1])\n",
    "    for i in range(len(img)-1):\n",
    "        for j in range(len(img[i])):\n",
    "            imgTmp[img[i+1,j], img[i, j]] += 1\n",
    "    \n",
    "    transpos = np.transpose(imgTmp)\n",
    "    data = imgTmp+transpos\n",
    "    \n",
    "    tmp = 0\n",
    "    for i in range(len(data)):\n",
    "        for j in range(len(data)):\n",
    "            tmp+=data[i, j]\n",
    "            \n",
    "    for i in range(len(data)):\n",
    "        for j in range(len(data)):\n",
    "            data[i, j]/=tmp\n",
    "    \n",
    "    return data"
   ]
  },
  {
   "cell_type": "code",
   "execution_count": null,
   "id": "36f96073",
   "metadata": {},
   "outputs": [],
   "source": [
    "def derajat135(img):\n",
    "    max = np.max(img)\n",
    "    imgTmp = np.zeros([max+1, max+1])\n",
    "    for i in range(len(img)-1):\n",
    "        for j in range(len(img[i])-1):\n",
    "            imgTmp[img[i,j], img[i+1, j+1]] += 1\n",
    "    \n",
    "    transpos = np.transpose(imgTmp)\n",
    "    data = imgTmp+transpos\n",
    "    \n",
    "    tmp = 0\n",
    "    for i in range(len(data)):\n",
    "        for j in range(len(data)):\n",
    "            tmp+=data[i, j]\n",
    "            \n",
    "    for i in range(len(data)):\n",
    "        for j in range(len(data)):\n",
    "            data[i, j]/=tmp\n",
    "    \n",
    "    return data"
   ]
  },
  {
   "cell_type": "code",
   "execution_count": null,
   "id": "6098d680",
   "metadata": {},
   "outputs": [],
   "source": [
    "hasil = []\n",
    "for i in tqdm(range(len(data)), desc='GLCM'):\n",
    "    dat = []\n",
    "    dat.append(derajat0(data[i]))\n",
    "    dat.append(derajat45(data[i]))\n",
    "    dat.append(derajat90(data[i]))\n",
    "    dat.append(derajat135(data[i]))\n",
    "    hasil.append(dat)"
   ]
  },
  {
   "cell_type": "code",
   "execution_count": null,
   "id": "46e161b0",
   "metadata": {},
   "outputs": [],
   "source": [
    "def contras(data):\n",
    "    contras = 0\n",
    "    for i in range(len(data)):\n",
    "        for j in range(len(data)):\n",
    "            contras += data[i,j]*pow(i-j,2)\n",
    "    return contras"
   ]
  },
  {
   "cell_type": "code",
   "execution_count": null,
   "id": "38814fa4",
   "metadata": {},
   "outputs": [],
   "source": [
    "def entropy(data):\n",
    "    entro = 0\n",
    "    for i in range(len(data)):\n",
    "        for j in range(len(data)):\n",
    "            if data[i,j] > 0.0:\n",
    "                entro += -(data[i,j] * math.log(data[i,j]))\n",
    "    return entro"
   ]
  },
  {
   "cell_type": "code",
   "execution_count": null,
   "id": "da0bd3aa",
   "metadata": {},
   "outputs": [],
   "source": [
    "def contras(data):\n",
    "    contras = 0\n",
    "    for i in range(len(data)):\n",
    "        for j in range(len(data)):\n",
    "            contras += data[i,j]*pow(i-j,2)\n",
    "    return contras"
   ]
  },
  {
   "cell_type": "code",
   "execution_count": null,
   "id": "e31987eb",
   "metadata": {},
   "outputs": [],
   "source": [
    "def homogentitas(data):\n",
    "    homogen = 0\n",
    "    for i in range(len(data)):\n",
    "        for j in range(len(data)):\n",
    "            homogen += data[i,j]*(1+(pow(i-j,2)))\n",
    "    return homogen"
   ]
  },
  {
   "cell_type": "code",
   "execution_count": null,
   "id": "b6bfd6af",
   "metadata": {},
   "outputs": [],
   "source": [
    "def energy(data):\n",
    "    ener = 0\n",
    "    for i in range(len(data)):\n",
    "        for j in range(len(data)):\n",
    "            ener += data[i,j]**2\n",
    "    return ener"
   ]
  },
  {
   "cell_type": "code",
   "execution_count": null,
   "id": "40bb9b9b",
   "metadata": {},
   "outputs": [],
   "source": [
    "hasilnya = []\n",
    "\n",
    "for j in tqdm(range(len(hasil)),desc='Ekstraksi'):\n",
    "    da=[]\n",
    "    da.append(PATH[j])\n",
    "    for i in hasil[j]:\n",
    "        dx = energy(i)\n",
    "        da.append(dx)\n",
    "        \n",
    "        dh = homogentitas(i)\n",
    "        da.append(dh)\n",
    "        \n",
    "        den = entropy(i)\n",
    "        da.append(den)\n",
    "        \n",
    "        dco = contras(i)\n",
    "        da.append(dco)\n",
    "    \n",
    "    da.append(str(PATH[j].split(\"\\\\\")[1]))\n",
    "    hasilnya.append(da)"
   ]
  },
  {
   "cell_type": "code",
   "execution_count": null,
   "id": "e128ff7f",
   "metadata": {},
   "outputs": [],
   "source": [
    "namatabel = ['file', 'energy_0', 'homogenity_0', 'entrophy_0', 'contras_0', 'energy_45', 'homogenity_45', 'entrophy_45', 'contras_45', 'energy_90', 'homogenity_90', 'entrophy_90', 'contras_90', 'energy_135', 'homogenity_135', 'entrophy_135', 'contras_135', 'Target']\n",
    "df = pd.DataFrame(hasilnya, columns=namatabel)"
   ]
  },
  {
   "cell_type": "code",
   "execution_count": null,
   "id": "0f2c178d",
   "metadata": {},
   "outputs": [],
   "source": [
    "df.head()\n",
    "df.shape"
   ]
  },
  {
   "cell_type": "code",
   "execution_count": null,
   "id": "34fd473a",
   "metadata": {},
   "outputs": [],
   "source": [
    "df"
   ]
  },
  {
   "cell_type": "code",
   "execution_count": null,
   "id": "d6437a58",
   "metadata": {},
   "outputs": [],
   "source": [
    "df.to_csv(r'data_filtered_fix.csv', index=False)"
   ]
  },
  {
   "cell_type": "markdown",
   "id": "42e56465",
   "metadata": {},
   "source": [
    "# Klasifikasi KNN"
   ]
  },
  {
   "cell_type": "code",
   "execution_count": 1,
   "id": "2083d096",
   "metadata": {},
   "outputs": [],
   "source": [
    "import numpy as np\n",
    "import pandas as pd\n",
    "\n",
    "from sklearn.model_selection import train_test_split\n",
    "from sklearn.neighbors import KNeighborsClassifier\n",
    "from sklearn.preprocessing import MinMaxScaler\n",
    "from sklearn.compose import ColumnTransformer\n",
    "from sklearn.pipeline import Pipeline\n",
    "from sklearn.model_selection import GridSearchCV\n",
    "from jcopml.utils import save_model, load_model"
   ]
  },
  {
   "cell_type": "code",
   "execution_count": 2,
   "id": "ba20d8ee",
   "metadata": {},
   "outputs": [
    {
     "data": {
      "text/html": [
       "<div>\n",
       "<style scoped>\n",
       "    .dataframe tbody tr th:only-of-type {\n",
       "        vertical-align: middle;\n",
       "    }\n",
       "\n",
       "    .dataframe tbody tr th {\n",
       "        vertical-align: top;\n",
       "    }\n",
       "\n",
       "    .dataframe thead th {\n",
       "        text-align: right;\n",
       "    }\n",
       "</style>\n",
       "<table border=\"1\" class=\"dataframe\">\n",
       "  <thead>\n",
       "    <tr style=\"text-align: right;\">\n",
       "      <th></th>\n",
       "      <th>file</th>\n",
       "      <th>energy_0</th>\n",
       "      <th>homogenity_0</th>\n",
       "      <th>entrophy_0</th>\n",
       "      <th>contras_0</th>\n",
       "      <th>energy_45</th>\n",
       "      <th>homogenity_45</th>\n",
       "      <th>entrophy_45</th>\n",
       "      <th>contras_45</th>\n",
       "      <th>energy_90</th>\n",
       "      <th>homogenity_90</th>\n",
       "      <th>entrophy_90</th>\n",
       "      <th>contras_90</th>\n",
       "      <th>energy_135</th>\n",
       "      <th>homogenity_135</th>\n",
       "      <th>entrophy_135</th>\n",
       "      <th>contras_135</th>\n",
       "      <th>Target</th>\n",
       "    </tr>\n",
       "  </thead>\n",
       "  <tbody>\n",
       "    <tr>\n",
       "      <th>0</th>\n",
       "      <td>filtered_data_fix\\Blight\\Corn_Blight (1009).JPG</td>\n",
       "      <td>0.000259</td>\n",
       "      <td>195.767409</td>\n",
       "      <td>8.587177</td>\n",
       "      <td>194.767409</td>\n",
       "      <td>0.000245</td>\n",
       "      <td>208.004092</td>\n",
       "      <td>8.627077</td>\n",
       "      <td>207.004092</td>\n",
       "      <td>0.000324</td>\n",
       "      <td>107.079786</td>\n",
       "      <td>8.350959</td>\n",
       "      <td>106.079786</td>\n",
       "      <td>0.000257</td>\n",
       "      <td>233.384897</td>\n",
       "      <td>8.606781</td>\n",
       "      <td>232.384897</td>\n",
       "      <td>Blight</td>\n",
       "    </tr>\n",
       "    <tr>\n",
       "      <th>1</th>\n",
       "      <td>filtered_data_fix\\Blight\\Corn_Blight (1014).JPG</td>\n",
       "      <td>0.000320</td>\n",
       "      <td>260.168123</td>\n",
       "      <td>8.406391</td>\n",
       "      <td>259.168123</td>\n",
       "      <td>0.000316</td>\n",
       "      <td>260.337405</td>\n",
       "      <td>8.411763</td>\n",
       "      <td>259.337405</td>\n",
       "      <td>0.000385</td>\n",
       "      <td>173.546937</td>\n",
       "      <td>8.239666</td>\n",
       "      <td>172.546937</td>\n",
       "      <td>0.000299</td>\n",
       "      <td>302.560357</td>\n",
       "      <td>8.460982</td>\n",
       "      <td>301.560357</td>\n",
       "      <td>Blight</td>\n",
       "    </tr>\n",
       "    <tr>\n",
       "      <th>2</th>\n",
       "      <td>filtered_data_fix\\Blight\\Corn_Blight (1016).JPG</td>\n",
       "      <td>0.000355</td>\n",
       "      <td>197.739173</td>\n",
       "      <td>8.345707</td>\n",
       "      <td>196.739173</td>\n",
       "      <td>0.000321</td>\n",
       "      <td>236.215822</td>\n",
       "      <td>8.417721</td>\n",
       "      <td>235.215822</td>\n",
       "      <td>0.000418</td>\n",
       "      <td>103.358329</td>\n",
       "      <td>8.117015</td>\n",
       "      <td>102.358329</td>\n",
       "      <td>0.000335</td>\n",
       "      <td>192.313039</td>\n",
       "      <td>8.357372</td>\n",
       "      <td>191.313039</td>\n",
       "      <td>Blight</td>\n",
       "    </tr>\n",
       "    <tr>\n",
       "      <th>3</th>\n",
       "      <td>filtered_data_fix\\Blight\\Corn_Blight (1021).JPG</td>\n",
       "      <td>0.000343</td>\n",
       "      <td>242.821358</td>\n",
       "      <td>8.336452</td>\n",
       "      <td>241.821358</td>\n",
       "      <td>0.000322</td>\n",
       "      <td>286.307893</td>\n",
       "      <td>8.392211</td>\n",
       "      <td>285.307893</td>\n",
       "      <td>0.000461</td>\n",
       "      <td>126.721580</td>\n",
       "      <td>8.071687</td>\n",
       "      <td>125.721580</td>\n",
       "      <td>0.000349</td>\n",
       "      <td>243.099386</td>\n",
       "      <td>8.335640</td>\n",
       "      <td>242.099386</td>\n",
       "      <td>Blight</td>\n",
       "    </tr>\n",
       "    <tr>\n",
       "      <th>4</th>\n",
       "      <td>filtered_data_fix\\Blight\\Corn_Blight (1026).JPG</td>\n",
       "      <td>0.000326</td>\n",
       "      <td>241.402128</td>\n",
       "      <td>8.361688</td>\n",
       "      <td>240.402128</td>\n",
       "      <td>0.000320</td>\n",
       "      <td>246.716411</td>\n",
       "      <td>8.383937</td>\n",
       "      <td>245.716411</td>\n",
       "      <td>0.000436</td>\n",
       "      <td>99.706816</td>\n",
       "      <td>8.065426</td>\n",
       "      <td>98.706816</td>\n",
       "      <td>0.000315</td>\n",
       "      <td>256.822122</td>\n",
       "      <td>8.394468</td>\n",
       "      <td>255.822122</td>\n",
       "      <td>Blight</td>\n",
       "    </tr>\n",
       "  </tbody>\n",
       "</table>\n",
       "</div>"
      ],
      "text/plain": [
       "                                              file  energy_0  homogenity_0  \\\n",
       "0  filtered_data_fix\\Blight\\Corn_Blight (1009).JPG  0.000259    195.767409   \n",
       "1  filtered_data_fix\\Blight\\Corn_Blight (1014).JPG  0.000320    260.168123   \n",
       "2  filtered_data_fix\\Blight\\Corn_Blight (1016).JPG  0.000355    197.739173   \n",
       "3  filtered_data_fix\\Blight\\Corn_Blight (1021).JPG  0.000343    242.821358   \n",
       "4  filtered_data_fix\\Blight\\Corn_Blight (1026).JPG  0.000326    241.402128   \n",
       "\n",
       "   entrophy_0   contras_0  energy_45  homogenity_45  entrophy_45  contras_45  \\\n",
       "0    8.587177  194.767409   0.000245     208.004092     8.627077  207.004092   \n",
       "1    8.406391  259.168123   0.000316     260.337405     8.411763  259.337405   \n",
       "2    8.345707  196.739173   0.000321     236.215822     8.417721  235.215822   \n",
       "3    8.336452  241.821358   0.000322     286.307893     8.392211  285.307893   \n",
       "4    8.361688  240.402128   0.000320     246.716411     8.383937  245.716411   \n",
       "\n",
       "   energy_90  homogenity_90  entrophy_90  contras_90  energy_135  \\\n",
       "0   0.000324     107.079786     8.350959  106.079786    0.000257   \n",
       "1   0.000385     173.546937     8.239666  172.546937    0.000299   \n",
       "2   0.000418     103.358329     8.117015  102.358329    0.000335   \n",
       "3   0.000461     126.721580     8.071687  125.721580    0.000349   \n",
       "4   0.000436      99.706816     8.065426   98.706816    0.000315   \n",
       "\n",
       "   homogenity_135  entrophy_135  contras_135  Target  \n",
       "0      233.384897      8.606781   232.384897  Blight  \n",
       "1      302.560357      8.460982   301.560357  Blight  \n",
       "2      192.313039      8.357372   191.313039  Blight  \n",
       "3      243.099386      8.335640   242.099386  Blight  \n",
       "4      256.822122      8.394468   255.822122  Blight  "
      ]
     },
     "execution_count": 2,
     "metadata": {},
     "output_type": "execute_result"
    }
   ],
   "source": [
    "df = pd.read_csv(\"data_filtered_fix.csv\")\n",
    "df.head()"
   ]
  },
  {
   "cell_type": "code",
   "execution_count": 3,
   "id": "9daf5b26",
   "metadata": {},
   "outputs": [
    {
     "data": {
      "text/plain": [
       "((960, 16), (240, 16), (960,), (240,))"
      ]
     },
     "execution_count": 3,
     "metadata": {},
     "output_type": "execute_result"
    }
   ],
   "source": [
    "X = df.drop(columns=[\"Target\",\"file\"])\n",
    "y = df.Target\n",
    "\n",
    "X_train, X_test, y_train, y_test = train_test_split(X, y, test_size=0.2, stratify=y, random_state=42)\n",
    "X_train.shape, X_test.shape, y_train.shape, y_test.shape"
   ]
  },
  {
   "cell_type": "code",
   "execution_count": 4,
   "id": "ad029afd",
   "metadata": {},
   "outputs": [],
   "source": [
    "# scaler = MinMaxScaler()\n",
    "# scaler.fit(X_train)\n",
    "\n",
    "# X_train_scaled = scaler.transform(X_train)\n",
    "# X_test_scaled = scaler.transform(X_test)"
   ]
  },
  {
   "cell_type": "code",
   "execution_count": 5,
   "id": "09e515df",
   "metadata": {
    "scrolled": true
   },
   "outputs": [],
   "source": [
    "# neighbor = range(1, 51, 2)\n",
    "# train_score = []\n",
    "# test_score = []\n",
    "\n",
    "# for k in neighbor:\n",
    "#     knn = KNeighborsClassifier(n_neighbors=k)\n",
    "#     knn.fit(X_train_scaled, y_train)\n",
    "    \n",
    "#     train_score.append(knn.score(X_train_scaled, y_train))\n",
    "#     test_score.append(knn.score(X_test_scaled, y_test))\n",
    "    \n",
    "# plt.plot(neighbor, train_score, label=\"train\")\n",
    "# plt.plot(neighbor, test_score, label=\"test\")\n",
    "# plt.legend()\n",
    "\n",
    "# print(f\"Max test score: {np.max(test_score)}\")\n",
    "# print(f\"n_neighbor: {neighbor[np.argmax(test_score)]}\")\n",
    "\n",
    "# knn.score(X_train_scaled, y_train), knn.score(X_test_scaled, y_test)"
   ]
  },
  {
   "cell_type": "code",
   "execution_count": 6,
   "id": "0e2b49e6",
   "metadata": {},
   "outputs": [],
   "source": [
    "# preds = knn.predict(X_test)\n",
    "# y_test\n",
    "# preds\n"
   ]
  },
  {
   "cell_type": "markdown",
   "id": "4a88eebd",
   "metadata": {},
   "source": [
    "## Preprocessor"
   ]
  },
  {
   "cell_type": "code",
   "execution_count": 7,
   "id": "81db54ec",
   "metadata": {},
   "outputs": [],
   "source": [
    "num_pipe = Pipeline([\n",
    "    (\"scaler\", MinMaxScaler())\n",
    "])\n",
    "preprocessor = ColumnTransformer([\n",
    "    ('numeric', num_pipe, X_train.columns)\n",
    "])\n",
    "pipeline = Pipeline([\n",
    "    (\"prep\", preprocessor),\n",
    "    (\"algo\", KNeighborsClassifier())\n",
    "])"
   ]
  },
  {
   "cell_type": "code",
   "execution_count": 8,
   "id": "456c4f47",
   "metadata": {},
   "outputs": [
    {
     "name": "stdout",
     "output_type": "stream",
     "text": [
      "Fitting 4 folds for each of 50 candidates, totalling 200 fits\n"
     ]
    },
    {
     "data": {
      "text/plain": [
       "GridSearchCV(cv=4,\n",
       "             estimator=Pipeline(steps=[('prep',\n",
       "                                        ColumnTransformer(transformers=[('numeric',\n",
       "                                                                         Pipeline(steps=[('scaler',\n",
       "                                                                                          MinMaxScaler())]),\n",
       "                                                                         Index(['energy_0', 'homogenity_0', 'entrophy_0', 'contras_0', 'energy_45',\n",
       "       'homogenity_45', 'entrophy_45', 'contras_45', 'energy_90',\n",
       "       'homogenity_90', 'entrophy_90', 'contras_90', 'energy_135',\n",
       "       'homogenity_135', 'entrophy_135', 'contras_135'],\n",
       "      dtype='object'))])),\n",
       "                                       ('algo', KNeighborsClassifier())]),\n",
       "             n_jobs=-1,\n",
       "             param_grid={'algo__n_neighbors': range(1, 51, 2),\n",
       "                         'algo__weights': ['uniform', 'distance']},\n",
       "             verbose=1)"
      ]
     },
     "execution_count": 8,
     "metadata": {},
     "output_type": "execute_result"
    }
   ],
   "source": [
    "parameter = {\n",
    "    \"algo__n_neighbors\": range(1, 51, 2),\n",
    "    \"algo__weights\": [\"uniform\", \"distance\"],\n",
    "#     \"algo__p\": [1, 2]\n",
    "}\n",
    "\n",
    "model = GridSearchCV(pipeline, parameter, cv=4, n_jobs=-1, verbose=1)\n",
    "model.fit(X_train, y_train)"
   ]
  },
  {
   "cell_type": "code",
   "execution_count": 9,
   "id": "3d07371e",
   "metadata": {},
   "outputs": [
    {
     "data": {
      "text/plain": [
       "{'algo__n_neighbors': 9, 'algo__weights': 'distance'}"
      ]
     },
     "execution_count": 9,
     "metadata": {},
     "output_type": "execute_result"
    }
   ],
   "source": [
    "model.best_params_"
   ]
  },
  {
   "cell_type": "code",
   "execution_count": 10,
   "id": "9b9581b8",
   "metadata": {},
   "outputs": [
    {
     "data": {
      "text/plain": [
       "(1.0, 0.825)"
      ]
     },
     "execution_count": 10,
     "metadata": {},
     "output_type": "execute_result"
    }
   ],
   "source": [
    "model.score(X_train, y_train), model.score(X_test, y_test)"
   ]
  },
  {
   "cell_type": "code",
   "execution_count": 11,
   "id": "770b0559",
   "metadata": {},
   "outputs": [
    {
     "data": {
      "text/plain": [
       "235     1\n",
       "841     1\n",
       "939     1\n",
       "334     1\n",
       "1060    1\n",
       "188     1\n",
       "472     1\n",
       "546     0\n",
       "134     1\n",
       "740     1\n",
       "545     1\n",
       "909     1\n",
       "427     1\n",
       "532     1\n",
       "872     0\n",
       "781     0\n",
       "731     1\n",
       "669     1\n",
       "270     1\n",
       "87      1\n",
       "Name: Target, dtype: int32"
      ]
     },
     "execution_count": 11,
     "metadata": {},
     "output_type": "execute_result"
    }
   ],
   "source": [
    "preds = model.predict(X_test)\n",
    "acc = (y_test == preds).astype(int)\n",
    "acc.mean()\n",
    "acc[:20]"
   ]
  },
  {
   "cell_type": "code",
   "execution_count": null,
   "id": "454a44e2",
   "metadata": {},
   "outputs": [],
   "source": []
  }
 ],
 "metadata": {
  "kernelspec": {
   "display_name": "Python [conda env:knn] *",
   "language": "python",
   "name": "conda-env-knn-py"
  },
  "language_info": {
   "codemirror_mode": {
    "name": "ipython",
    "version": 3
   },
   "file_extension": ".py",
   "mimetype": "text/x-python",
   "name": "python",
   "nbconvert_exporter": "python",
   "pygments_lexer": "ipython3",
   "version": "3.9.7"
  },
  "varInspector": {
   "cols": {
    "lenName": 16,
    "lenType": 16,
    "lenVar": 40
   },
   "kernels_config": {
    "python": {
     "delete_cmd_postfix": "",
     "delete_cmd_prefix": "del ",
     "library": "var_list.py",
     "varRefreshCmd": "print(var_dic_list())"
    },
    "r": {
     "delete_cmd_postfix": ") ",
     "delete_cmd_prefix": "rm(",
     "library": "var_list.r",
     "varRefreshCmd": "cat(var_dic_list()) "
    }
   },
   "types_to_exclude": [
    "module",
    "function",
    "builtin_function_or_method",
    "instance",
    "_Feature"
   ],
   "window_display": false
  }
 },
 "nbformat": 4,
 "nbformat_minor": 5
}
