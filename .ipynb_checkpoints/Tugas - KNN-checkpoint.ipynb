{
 "cells": [
  {
   "cell_type": "markdown",
   "id": "254a894f",
   "metadata": {},
   "source": [
    "# Ekstraksi GLCM"
   ]
  },
  {
   "cell_type": "code",
   "execution_count": 6,
   "id": "5c8bc38e",
   "metadata": {},
   "outputs": [],
   "source": [
    "import numpy as np\n",
    "import cv2 as cv\n",
    "import matplotlib.pyplot as plt\n",
    "import math\n",
    "import pandas as pd\n",
    "import imutils.paths as path\n",
    "from tqdm import tqdm\n",
    "from glob import glob"
   ]
  },
  {
   "cell_type": "code",
   "execution_count": null,
   "id": "ba68967d",
   "metadata": {},
   "outputs": [],
   "source": [
    "PATH = glob(\"filtered_data_fix/*/*.jpg\")\n",
    "PATH[:10]"
   ]
  },
  {
   "cell_type": "markdown",
   "id": "6631ae46",
   "metadata": {},
   "source": [
    "## Convert to GrayScale & Resize 128x128"
   ]
  },
  {
   "cell_type": "code",
   "execution_count": null,
   "id": "5de9e23b",
   "metadata": {},
   "outputs": [],
   "source": [
    "data = []\n",
    "for i in tqdm(PATH, desc=\"load\"):\n",
    "    fileImage = cv.imread(i)\n",
    "    img = cv.cvtColor(fileImage, cv.COLOR_BGR2GRAY)\n",
    "    a = cv.resize(img, (128, 128))\n",
    "    data.append(a)\n",
    "data[:5]"
   ]
  },
  {
   "cell_type": "code",
   "execution_count": null,
   "id": "8e56db3f",
   "metadata": {},
   "outputs": [],
   "source": [
    "def derajat0(img):\n",
    "    max = np.max(img)\n",
    "    imgTmp = np.zeros([max+1, max+1])\n",
    "    for i in range(len(img)):\n",
    "        for j in range(len(img[i])-1):\n",
    "            imgTmp[img[i,j], img[i, j+1]] += 1\n",
    "    \n",
    "    transpos = np.transpose(imgTmp)\n",
    "    data = imgTmp+transpos\n",
    "    \n",
    "    tmp = 0\n",
    "    for i in range(len(data)):\n",
    "        for j in range(len(data)):\n",
    "            tmp+=data[i, j]\n",
    "            \n",
    "    for i in range(len(data)):\n",
    "        for j in range(len(data)):\n",
    "            data[i, j]/=tmp\n",
    "    \n",
    "    return data"
   ]
  },
  {
   "cell_type": "code",
   "execution_count": null,
   "id": "920dd3d3",
   "metadata": {},
   "outputs": [],
   "source": [
    "def derajat45(img):\n",
    "    max = np.max(img)\n",
    "    imgTmp = np.zeros([max+1, max+1])\n",
    "    for i in range(len(img)-1):\n",
    "        for j in range(len(img[i])-1):\n",
    "            imgTmp[img[i+1,j], img[i, j+1]] += 1\n",
    "    \n",
    "    transpos = np.transpose(imgTmp)\n",
    "    data = imgTmp+transpos\n",
    "    \n",
    "    tmp = 0\n",
    "    for i in range(len(data)):\n",
    "        for j in range(len(data)):\n",
    "            tmp+=data[i, j]\n",
    "            \n",
    "    for i in range(len(data)):\n",
    "        for j in range(len(data)):\n",
    "            data[i, j]/=tmp\n",
    "    \n",
    "    return data"
   ]
  },
  {
   "cell_type": "code",
   "execution_count": null,
   "id": "95410a05",
   "metadata": {},
   "outputs": [],
   "source": [
    "def derajat90(img):\n",
    "    max = np.max(img)\n",
    "    imgTmp = np.zeros([max+1, max+1])\n",
    "    for i in range(len(img)-1):\n",
    "        for j in range(len(img[i])):\n",
    "            imgTmp[img[i+1,j], img[i, j]] += 1\n",
    "    \n",
    "    transpos = np.transpose(imgTmp)\n",
    "    data = imgTmp+transpos\n",
    "    \n",
    "    tmp = 0\n",
    "    for i in range(len(data)):\n",
    "        for j in range(len(data)):\n",
    "            tmp+=data[i, j]\n",
    "            \n",
    "    for i in range(len(data)):\n",
    "        for j in range(len(data)):\n",
    "            data[i, j]/=tmp\n",
    "    \n",
    "    return data"
   ]
  },
  {
   "cell_type": "code",
   "execution_count": null,
   "id": "36f96073",
   "metadata": {},
   "outputs": [],
   "source": [
    "def derajat135(img):\n",
    "    max = np.max(img)\n",
    "    imgTmp = np.zeros([max+1, max+1])\n",
    "    for i in range(len(img)-1):\n",
    "        for j in range(len(img[i])-1):\n",
    "            imgTmp[img[i,j], img[i+1, j+1]] += 1\n",
    "    \n",
    "    transpos = np.transpose(imgTmp)\n",
    "    data = imgTmp+transpos\n",
    "    \n",
    "    tmp = 0\n",
    "    for i in range(len(data)):\n",
    "        for j in range(len(data)):\n",
    "            tmp+=data[i, j]\n",
    "            \n",
    "    for i in range(len(data)):\n",
    "        for j in range(len(data)):\n",
    "            data[i, j]/=tmp\n",
    "    \n",
    "    return data"
   ]
  },
  {
   "cell_type": "code",
   "execution_count": null,
   "id": "6098d680",
   "metadata": {},
   "outputs": [],
   "source": [
    "hasil = []\n",
    "for i in tqdm(range(len(data)), desc='GLCM'):\n",
    "    dat = []\n",
    "    dat.append(derajat0(data[i]))\n",
    "    dat.append(derajat45(data[i]))\n",
    "    dat.append(derajat90(data[i]))\n",
    "    dat.append(derajat135(data[i]))\n",
    "    hasil.append(dat)"
   ]
  },
  {
   "cell_type": "code",
   "execution_count": null,
   "id": "46e161b0",
   "metadata": {},
   "outputs": [],
   "source": [
    "def contras(data):\n",
    "    contras = 0\n",
    "    for i in range(len(data)):\n",
    "        for j in range(len(data)):\n",
    "            contras += data[i,j]*pow(i-j,2)\n",
    "    return contras"
   ]
  },
  {
   "cell_type": "code",
   "execution_count": null,
   "id": "38814fa4",
   "metadata": {},
   "outputs": [],
   "source": [
    "def entropy(data):\n",
    "    entro = 0\n",
    "    for i in range(len(data)):\n",
    "        for j in range(len(data)):\n",
    "            if data[i,j] > 0.0:\n",
    "                entro += -(data[i,j] * math.log(data[i,j]))\n",
    "    return entro"
   ]
  },
  {
   "cell_type": "code",
   "execution_count": null,
   "id": "da0bd3aa",
   "metadata": {},
   "outputs": [],
   "source": [
    "def contras(data):\n",
    "    contras = 0\n",
    "    for i in range(len(data)):\n",
    "        for j in range(len(data)):\n",
    "            contras += data[i,j]*pow(i-j,2)\n",
    "    return contras"
   ]
  },
  {
   "cell_type": "code",
   "execution_count": null,
   "id": "e31987eb",
   "metadata": {},
   "outputs": [],
   "source": [
    "def homogentitas(data):\n",
    "    homogen = 0\n",
    "    for i in range(len(data)):\n",
    "        for j in range(len(data)):\n",
    "            homogen += data[i,j]*(1+(pow(i-j,2)))\n",
    "    return homogen"
   ]
  },
  {
   "cell_type": "code",
   "execution_count": null,
   "id": "b6bfd6af",
   "metadata": {},
   "outputs": [],
   "source": [
    "def energy(data):\n",
    "    ener = 0\n",
    "    for i in range(len(data)):\n",
    "        for j in range(len(data)):\n",
    "            ener += data[i,j]**2\n",
    "    return ener"
   ]
  },
  {
   "cell_type": "code",
   "execution_count": null,
   "id": "40bb9b9b",
   "metadata": {},
   "outputs": [],
   "source": [
    "hasilnya = []\n",
    "\n",
    "for j in tqdm(range(len(hasil)),desc='Ekstraksi'):\n",
    "    da=[]\n",
    "    da.append(PATH[j])\n",
    "    for i in hasil[j]:\n",
    "        dx = energy(i)\n",
    "        da.append(dx)\n",
    "        \n",
    "        dh = homogentitas(i)\n",
    "        da.append(dh)\n",
    "        \n",
    "        den = entropy(i)\n",
    "        da.append(den)\n",
    "        \n",
    "        dco = contras(i)\n",
    "        da.append(dco)\n",
    "    \n",
    "    da.append(str(PATH[j].split(\"\\\\\")[1]))\n",
    "    hasilnya.append(da)"
   ]
  },
  {
   "cell_type": "code",
   "execution_count": null,
   "id": "e128ff7f",
   "metadata": {},
   "outputs": [],
   "source": [
    "namatabel = ['file', 'energy_0', 'homogenity_0', 'entrophy_0', 'contras_0', 'energy_45', 'homogenity_45', 'entrophy_45', 'contras_45', 'energy_90', 'homogenity_90', 'entrophy_90', 'contras_90', 'energy_135', 'homogenity_135', 'entrophy_135', 'contras_135', 'Target']\n",
    "df = pd.DataFrame(hasilnya, columns=namatabel)"
   ]
  },
  {
   "cell_type": "code",
   "execution_count": null,
   "id": "0f2c178d",
   "metadata": {},
   "outputs": [],
   "source": [
    "df.head()\n",
    "df.shape"
   ]
  },
  {
   "cell_type": "code",
   "execution_count": null,
   "id": "34fd473a",
   "metadata": {},
   "outputs": [],
   "source": [
    "df"
   ]
  },
  {
   "cell_type": "code",
   "execution_count": null,
   "id": "d6437a58",
   "metadata": {},
   "outputs": [],
   "source": [
    "df.to_csv(r'data.csv', index=False)"
   ]
  },
  {
   "cell_type": "markdown",
   "id": "42e56465",
   "metadata": {},
   "source": [
    "# Klasifikasi KNN"
   ]
  },
  {
   "cell_type": "code",
   "execution_count": 1,
   "id": "2083d096",
   "metadata": {},
   "outputs": [],
   "source": [
    "import numpy as np\n",
    "import pandas as pd\n",
    "\n",
    "from sklearn.model_selection import train_test_split\n",
    "from sklearn.neighbors import KNeighborsClassifier\n",
    "from sklearn.preprocessing import MinMaxScaler\n",
    "from sklearn.compose import ColumnTransformer\n",
    "from sklearn.pipeline import Pipeline\n",
    "from sklearn.model_selection import GridSearchCV\n",
    "from jcopml.utils import save_model, load_model\n",
    "# from ekstraksi_fitur import ekstrak"
   ]
  },
  {
   "cell_type": "code",
   "execution_count": 89,
   "id": "ba20d8ee",
   "metadata": {},
   "outputs": [
    {
     "data": {
      "text/html": [
       "<div>\n",
       "<style scoped>\n",
       "    .dataframe tbody tr th:only-of-type {\n",
       "        vertical-align: middle;\n",
       "    }\n",
       "\n",
       "    .dataframe tbody tr th {\n",
       "        vertical-align: top;\n",
       "    }\n",
       "\n",
       "    .dataframe thead th {\n",
       "        text-align: right;\n",
       "    }\n",
       "</style>\n",
       "<table border=\"1\" class=\"dataframe\">\n",
       "  <thead>\n",
       "    <tr style=\"text-align: right;\">\n",
       "      <th></th>\n",
       "      <th>file</th>\n",
       "      <th>energy_0</th>\n",
       "      <th>homogenity_0</th>\n",
       "      <th>entrophy_0</th>\n",
       "      <th>contras_0</th>\n",
       "      <th>energy_45</th>\n",
       "      <th>homogenity_45</th>\n",
       "      <th>entrophy_45</th>\n",
       "      <th>contras_45</th>\n",
       "      <th>energy_90</th>\n",
       "      <th>homogenity_90</th>\n",
       "      <th>entrophy_90</th>\n",
       "      <th>contras_90</th>\n",
       "      <th>energy_135</th>\n",
       "      <th>homogenity_135</th>\n",
       "      <th>entrophy_135</th>\n",
       "      <th>contras_135</th>\n",
       "      <th>Target</th>\n",
       "    </tr>\n",
       "  </thead>\n",
       "  <tbody>\n",
       "    <tr>\n",
       "      <th>0</th>\n",
       "      <td>filtered_data_fix\\Blight\\00a14441-7a62-4034-bc...</td>\n",
       "      <td>0.131244</td>\n",
       "      <td>296.549582</td>\n",
       "      <td>5.907101</td>\n",
       "      <td>295.549582</td>\n",
       "      <td>0.130517</td>\n",
       "      <td>347.933722</td>\n",
       "      <td>5.946870</td>\n",
       "      <td>346.933722</td>\n",
       "      <td>0.140481</td>\n",
       "      <td>81.096580</td>\n",
       "      <td>5.581650</td>\n",
       "      <td>80.096580</td>\n",
       "      <td>0.130847</td>\n",
       "      <td>307.268833</td>\n",
       "      <td>5.902506</td>\n",
       "      <td>306.268833</td>\n",
       "      <td>Blight</td>\n",
       "    </tr>\n",
       "    <tr>\n",
       "      <th>1</th>\n",
       "      <td>filtered_data_fix\\Blight\\00a55069-3fa3-405b-8d...</td>\n",
       "      <td>0.032156</td>\n",
       "      <td>176.024114</td>\n",
       "      <td>7.409674</td>\n",
       "      <td>175.024114</td>\n",
       "      <td>0.032110</td>\n",
       "      <td>211.007688</td>\n",
       "      <td>7.438048</td>\n",
       "      <td>210.007688</td>\n",
       "      <td>0.034275</td>\n",
       "      <td>86.498708</td>\n",
       "      <td>7.166115</td>\n",
       "      <td>85.498708</td>\n",
       "      <td>0.031854</td>\n",
       "      <td>253.959390</td>\n",
       "      <td>7.536026</td>\n",
       "      <td>252.959390</td>\n",
       "      <td>Blight</td>\n",
       "    </tr>\n",
       "    <tr>\n",
       "      <th>2</th>\n",
       "      <td>filtered_data_fix\\Blight\\03c4fb76-81ce-4430-99...</td>\n",
       "      <td>0.175833</td>\n",
       "      <td>148.913878</td>\n",
       "      <td>5.337181</td>\n",
       "      <td>147.913878</td>\n",
       "      <td>0.175176</td>\n",
       "      <td>139.539215</td>\n",
       "      <td>5.336760</td>\n",
       "      <td>138.539215</td>\n",
       "      <td>0.178926</td>\n",
       "      <td>82.174951</td>\n",
       "      <td>5.220676</td>\n",
       "      <td>81.174951</td>\n",
       "      <td>0.174741</td>\n",
       "      <td>209.331143</td>\n",
       "      <td>5.398660</td>\n",
       "      <td>208.331143</td>\n",
       "      <td>Blight</td>\n",
       "    </tr>\n",
       "    <tr>\n",
       "      <th>3</th>\n",
       "      <td>filtered_data_fix\\Blight\\0569f31d-50e6-479a-bd...</td>\n",
       "      <td>0.011214</td>\n",
       "      <td>330.148807</td>\n",
       "      <td>8.092978</td>\n",
       "      <td>329.148807</td>\n",
       "      <td>0.011168</td>\n",
       "      <td>394.182900</td>\n",
       "      <td>8.142456</td>\n",
       "      <td>393.182900</td>\n",
       "      <td>0.012262</td>\n",
       "      <td>229.191806</td>\n",
       "      <td>7.926461</td>\n",
       "      <td>228.191806</td>\n",
       "      <td>0.010931</td>\n",
       "      <td>448.110236</td>\n",
       "      <td>8.198891</td>\n",
       "      <td>447.110236</td>\n",
       "      <td>Blight</td>\n",
       "    </tr>\n",
       "    <tr>\n",
       "      <th>4</th>\n",
       "      <td>filtered_data_fix\\Blight\\05eb5da2-11b6-4cce-9e...</td>\n",
       "      <td>0.044512</td>\n",
       "      <td>277.372109</td>\n",
       "      <td>7.171218</td>\n",
       "      <td>276.372109</td>\n",
       "      <td>0.043611</td>\n",
       "      <td>281.746791</td>\n",
       "      <td>7.191404</td>\n",
       "      <td>280.746791</td>\n",
       "      <td>0.047806</td>\n",
       "      <td>103.371863</td>\n",
       "      <td>6.905399</td>\n",
       "      <td>102.371863</td>\n",
       "      <td>0.043843</td>\n",
       "      <td>350.364003</td>\n",
       "      <td>7.254291</td>\n",
       "      <td>349.364003</td>\n",
       "      <td>Blight</td>\n",
       "    </tr>\n",
       "  </tbody>\n",
       "</table>\n",
       "</div>"
      ],
      "text/plain": [
       "                                                file  ...  Target\n",
       "0  filtered_data_fix\\Blight\\00a14441-7a62-4034-bc...  ...  Blight\n",
       "1  filtered_data_fix\\Blight\\00a55069-3fa3-405b-8d...  ...  Blight\n",
       "2  filtered_data_fix\\Blight\\03c4fb76-81ce-4430-99...  ...  Blight\n",
       "3  filtered_data_fix\\Blight\\0569f31d-50e6-479a-bd...  ...  Blight\n",
       "4  filtered_data_fix\\Blight\\05eb5da2-11b6-4cce-9e...  ...  Blight\n",
       "\n",
       "[5 rows x 18 columns]"
      ]
     },
     "execution_count": 89,
     "metadata": {},
     "output_type": "execute_result"
    }
   ],
   "source": [
    "df = pd.read_csv(\"data.csv\")\n",
    "df.head()"
   ]
  },
  {
   "cell_type": "code",
   "execution_count": 90,
   "id": "9daf5b26",
   "metadata": {},
   "outputs": [
    {
     "data": {
      "text/plain": [
       "(      energy_0  homogenity_0  ...  entrophy_135  contras_135\n",
       " 235   0.072519    230.478716  ...      6.981867   362.475231\n",
       " 841   0.005792   1066.030573  ...      8.437301  1107.617087\n",
       " 939   0.000438    229.521838  ...      8.434419   437.251349\n",
       " 334   0.101173    344.311762  ...      6.420135   491.398909\n",
       " 1060  0.001913     28.177965  ...      6.933834    29.829624\n",
       " ...        ...           ...  ...           ...          ...\n",
       " 766   0.068267    393.871309  ...      6.875706   404.571517\n",
       " 582   0.062112    309.069820  ...      6.726546   387.500155\n",
       " 690   0.084805    160.346703  ...      6.730801   434.145700\n",
       " 814   0.061721    353.964813  ...      7.013786   425.915308\n",
       " 299   0.002000    295.875369  ...      8.228825   372.773886\n",
       " \n",
       " [240 rows x 16 columns],\n",
       " 235             Blight\n",
       " 841     Gray_Leaf_Spot\n",
       " 939            Healthy\n",
       " 334        Common_Rust\n",
       " 1060           Healthy\n",
       "              ...      \n",
       " 766     Gray_Leaf_Spot\n",
       " 582        Common_Rust\n",
       " 690     Gray_Leaf_Spot\n",
       " 814     Gray_Leaf_Spot\n",
       " 299             Blight\n",
       " Name: Target, Length: 240, dtype: object)"
      ]
     },
     "execution_count": 90,
     "metadata": {},
     "output_type": "execute_result"
    }
   ],
   "source": [
    "X = df.drop(columns=[\"Target\",\"file\"])\n",
    "y = df.Target\n",
    "\n",
    "X_train, X_test, y_train, y_test = train_test_split(X, y, test_size=0.2, stratify=y, random_state=42)\n",
    "X_train.shape, X_test.shape, y_train.shape, y_test.shape\n",
    "X_test, y_test"
   ]
  },
  {
   "cell_type": "code",
   "execution_count": 91,
   "id": "fb94f508",
   "metadata": {},
   "outputs": [],
   "source": [
    "# def split(data):\n",
    "#     X = data.drop(columns=[\"Target\", \"file\"])\n",
    "#     y = data.Target\n",
    "#     return X, y"
   ]
  },
  {
   "cell_type": "code",
   "execution_count": 92,
   "id": "d21237f0",
   "metadata": {},
   "outputs": [],
   "source": [
    "# train = pd.read_csv(\"train.csv\")\n",
    "# test = ekstrak([\"dataset/test/Healthy/Corn_Health (3).jpg\"])\n",
    "# X_train, y_train = split(train)\n",
    "# X_test, y_test = split(test)\n",
    "# y_test, y_train"
   ]
  },
  {
   "cell_type": "code",
   "execution_count": 93,
   "id": "ad029afd",
   "metadata": {},
   "outputs": [],
   "source": [
    "scaler = MinMaxScaler()\n",
    "scaler.fit(X_train)\n",
    "\n",
    "X_train_scaled = scaler.transform(X_train)\n",
    "X_test_scaled = scaler.transform(X_test)"
   ]
  },
  {
   "cell_type": "code",
   "execution_count": 95,
   "id": "09e515df",
   "metadata": {
    "scrolled": true
   },
   "outputs": [
    {
     "name": "stdout",
     "output_type": "stream",
     "text": [
      "Max test score: 0.8791666666666667\n",
      "n_neighbor: 5\n"
     ]
    },
    {
     "data": {
      "text/plain": [
       "(0.8385416666666666, 0.8083333333333333)"
      ]
     },
     "execution_count": 95,
     "metadata": {},
     "output_type": "execute_result"
    },
    {
     "data": {
      "image/png": "[encoded data removed]",
      "text/plain": [
       "<Figure size 432x288 with 1 Axes>"
      ]
     },
     "metadata": {
      "needs_background": "light"
     },
     "output_type": "display_data"
    }
   ],
   "source": [
    "neighbor = range(1, 51, 2)\n",
    "train_score = []\n",
    "test_score = []\n",
    "\n",
    "for k in neighbor:\n",
    "    knn = KNeighborsClassifier(n_neighbors=k)\n",
    "    knn.fit(X_train_scaled, y_train)\n",
    "    \n",
    "    train_score.append(knn.score(X_train_scaled, y_train))\n",
    "    test_score.append(knn.score(X_test_scaled, y_test))\n",
    "    \n",
    "plt.plot(neighbor, train_score, label=\"train\")\n",
    "plt.plot(neighbor, test_score, label=\"test\")\n",
    "plt.legend()\n",
    "\n",
    "print(f\"Max test score: {np.max(test_score)}\")\n",
    "print(f\"n_neighbor: {neighbor[np.argmax(test_score)]}\")\n",
    "\n",
    "knn.score(X_train_scaled, y_train), knn.score(X_test_scaled, y_test)"
   ]
  },
  {
   "cell_type": "code",
   "execution_count": 96,
   "id": "0e2b49e6",
   "metadata": {},
   "outputs": [
    {
     "data": {
      "text/plain": [
       "array(['Blight', 'Gray_Leaf_Spot', 'Healthy', 'Common_Rust', 'Healthy',\n",
       "       'Blight', 'Common_Rust', 'Common_Rust', 'Blight', 'Gray_Leaf_Spot',\n",
       "       'Common_Rust', 'Healthy', 'Blight', 'Common_Rust',\n",
       "       'Gray_Leaf_Spot', 'Gray_Leaf_Spot', 'Common_Rust', 'Blight',\n",
       "       'Blight', 'Gray_Leaf_Spot', 'Healthy', 'Healthy', 'Healthy',\n",
       "       'Blight', 'Gray_Leaf_Spot', 'Healthy', 'Common_Rust', 'Blight',\n",
       "       'Blight', 'Gray_Leaf_Spot', 'Blight', 'Healthy', 'Blight',\n",
       "       'Blight', 'Healthy', 'Blight', 'Blight', 'Blight', 'Common_Rust',\n",
       "       'Gray_Leaf_Spot', 'Common_Rust', 'Healthy', 'Healthy',\n",
       "       'Gray_Leaf_Spot', 'Healthy', 'Common_Rust', 'Gray_Leaf_Spot',\n",
       "       'Blight', 'Healthy', 'Healthy', 'Common_Rust', 'Common_Rust',\n",
       "       'Healthy', 'Blight', 'Common_Rust', 'Blight', 'Gray_Leaf_Spot',\n",
       "       'Common_Rust', 'Blight', 'Blight', 'Common_Rust', 'Gray_Leaf_Spot',\n",
       "       'Healthy', 'Healthy', 'Healthy', 'Healthy', 'Healthy',\n",
       "       'Gray_Leaf_Spot', 'Common_Rust', 'Common_Rust', 'Healthy',\n",
       "       'Common_Rust', 'Blight', 'Healthy', 'Common_Rust',\n",
       "       'Gray_Leaf_Spot', 'Common_Rust', 'Healthy', 'Common_Rust',\n",
       "       'Common_Rust', 'Common_Rust', 'Gray_Leaf_Spot', 'Common_Rust',\n",
       "       'Common_Rust', 'Blight', 'Blight', 'Blight', 'Common_Rust',\n",
       "       'Common_Rust', 'Healthy', 'Healthy', 'Healthy', 'Common_Rust',\n",
       "       'Gray_Leaf_Spot', 'Healthy', 'Healthy', 'Healthy', 'Common_Rust',\n",
       "       'Common_Rust', 'Common_Rust', 'Blight', 'Common_Rust', 'Healthy',\n",
       "       'Common_Rust', 'Common_Rust', 'Gray_Leaf_Spot', 'Common_Rust',\n",
       "       'Healthy', 'Common_Rust', 'Common_Rust', 'Gray_Leaf_Spot',\n",
       "       'Blight', 'Blight', 'Healthy', 'Gray_Leaf_Spot', 'Common_Rust',\n",
       "       'Healthy', 'Common_Rust', 'Blight', 'Healthy', 'Gray_Leaf_Spot',\n",
       "       'Common_Rust', 'Blight', 'Healthy', 'Gray_Leaf_Spot',\n",
       "       'Gray_Leaf_Spot', 'Gray_Leaf_Spot', 'Blight', 'Gray_Leaf_Spot',\n",
       "       'Common_Rust', 'Blight', 'Common_Rust', 'Healthy', 'Healthy',\n",
       "       'Blight', 'Blight', 'Healthy', 'Common_Rust', 'Gray_Leaf_Spot',\n",
       "       'Blight', 'Gray_Leaf_Spot', 'Blight', 'Healthy', 'Healthy',\n",
       "       'Blight', 'Blight', 'Blight', 'Gray_Leaf_Spot', 'Blight',\n",
       "       'Healthy', 'Blight', 'Common_Rust', 'Healthy', 'Gray_Leaf_Spot',\n",
       "       'Blight', 'Common_Rust', 'Gray_Leaf_Spot', 'Common_Rust', 'Blight',\n",
       "       'Common_Rust', 'Blight', 'Gray_Leaf_Spot', 'Common_Rust',\n",
       "       'Healthy', 'Healthy', 'Healthy', 'Blight', 'Healthy', 'Healthy',\n",
       "       'Common_Rust', 'Blight', 'Common_Rust', 'Healthy', 'Common_Rust',\n",
       "       'Blight', 'Blight', 'Common_Rust', 'Blight', 'Common_Rust',\n",
       "       'Common_Rust', 'Blight', 'Gray_Leaf_Spot', 'Gray_Leaf_Spot',\n",
       "       'Common_Rust', 'Common_Rust', 'Gray_Leaf_Spot', 'Healthy',\n",
       "       'Gray_Leaf_Spot', 'Blight', 'Common_Rust', 'Healthy',\n",
       "       'Gray_Leaf_Spot', 'Common_Rust', 'Healthy', 'Gray_Leaf_Spot',\n",
       "       'Common_Rust', 'Healthy', 'Gray_Leaf_Spot', 'Blight', 'Blight',\n",
       "       'Common_Rust', 'Blight', 'Blight', 'Common_Rust', 'Gray_Leaf_Spot',\n",
       "       'Healthy', 'Blight', 'Common_Rust', 'Gray_Leaf_Spot',\n",
       "       'Common_Rust', 'Common_Rust', 'Blight', 'Healthy',\n",
       "       'Gray_Leaf_Spot', 'Common_Rust', 'Gray_Leaf_Spot', 'Blight',\n",
       "       'Gray_Leaf_Spot', 'Gray_Leaf_Spot', 'Healthy', 'Common_Rust',\n",
       "       'Blight', 'Blight', 'Blight', 'Gray_Leaf_Spot', 'Healthy',\n",
       "       'Healthy', 'Blight', 'Common_Rust', 'Gray_Leaf_Spot',\n",
       "       'Common_Rust', 'Gray_Leaf_Spot', 'Gray_Leaf_Spot', 'Blight',\n",
       "       'Common_Rust', 'Common_Rust', 'Common_Rust', 'Common_Rust',\n",
       "       'Gray_Leaf_Spot', 'Blight'], dtype=object)"
      ]
     },
     "execution_count": 96,
     "metadata": {},
     "output_type": "execute_result"
    }
   ],
   "source": [
    "preds = knn.predict(X_test_scaled)\n",
    "preds"
   ]
  },
  {
   "cell_type": "code",
   "execution_count": 97,
   "id": "bdda18d7",
   "metadata": {},
   "outputs": [
    {
     "data": {
      "text/plain": [
       "235             Blight\n",
       "841     Gray_Leaf_Spot\n",
       "939            Healthy\n",
       "334        Common_Rust\n",
       "1060           Healthy\n",
       "             ...      \n",
       "766     Gray_Leaf_Spot\n",
       "582        Common_Rust\n",
       "690     Gray_Leaf_Spot\n",
       "814     Gray_Leaf_Spot\n",
       "299             Blight\n",
       "Name: Target, Length: 240, dtype: object"
      ]
     },
     "execution_count": 97,
     "metadata": {},
     "output_type": "execute_result"
    }
   ],
   "source": [
    "y_test"
   ]
  },
  {
   "cell_type": "markdown",
   "id": "4a88eebd",
   "metadata": {},
   "source": [
    "## Preprocessor"
   ]
  },
  {
   "cell_type": "code",
   "execution_count": 7,
   "id": "81db54ec",
   "metadata": {},
   "outputs": [],
   "source": [
    "num_pipe = Pipeline([\n",
    "    (\"scaler\", MinMaxScaler())\n",
    "])\n",
    "preprocessor = ColumnTransformer([\n",
    "    ('numeric', num_pipe, X_train.columns)\n",
    "])\n",
    "pipeline = Pipeline([\n",
    "    (\"prep\", preprocessor),\n",
    "    (\"algo\", KNeighborsClassifier())\n",
    "])"
   ]
  },
  {
   "cell_type": "code",
   "execution_count": 8,
   "id": "456c4f47",
   "metadata": {},
   "outputs": [
    {
     "name": "stdout",
     "output_type": "stream",
     "text": [
      "Fitting 4 folds for each of 50 candidates, totalling 200 fits\n"
     ]
    },
    {
     "data": {
      "text/plain": [
       "GridSearchCV(cv=4,\n",
       "             estimator=Pipeline(steps=[('prep',\n",
       "                                        ColumnTransformer(transformers=[('numeric',\n",
       "                                                                         Pipeline(steps=[('scaler',\n",
       "                                                                                          MinMaxScaler())]),\n",
       "                                                                         Index(['energy_0', 'homogenity_0', 'entrophy_0', 'contras_0', 'energy_45',\n",
       "       'homogenity_45', 'entrophy_45', 'contras_45', 'energy_90',\n",
       "       'homogenity_90', 'entrophy_90', 'contras_90', 'energy_135',\n",
       "       'homogenity_135', 'entrophy_135', 'contras_135'],\n",
       "      dtype='object'))])),\n",
       "                                       ('algo', KNeighborsClassifier())]),\n",
       "             n_jobs=-1,\n",
       "             param_grid={'algo__n_neighbors': range(1, 51, 2),\n",
       "                         'algo__weights': ['uniform', 'distance']},\n",
       "             verbose=1)"
      ]
     },
     "execution_count": 8,
     "metadata": {},
     "output_type": "execute_result"
    }
   ],
   "source": [
    "parameter = {\n",
    "    \"algo__n_neighbors\": range(1, 51, 2),\n",
    "    \"algo__weights\": [\"uniform\", \"distance\"],\n",
    "#     \"algo__p\": [1, 2]\n",
    "}\n",
    "\n",
    "model = GridSearchCV(pipeline, parameter, cv=4, n_jobs=-1, verbose=1)\n",
    "model.fit(X_train, y_train)"
   ]
  },
  {
   "cell_type": "code",
   "execution_count": 9,
   "id": "3d07371e",
   "metadata": {},
   "outputs": [
    {
     "data": {
      "text/plain": [
       "{'algo__n_neighbors': 11, 'algo__weights': 'distance'}"
      ]
     },
     "execution_count": 9,
     "metadata": {},
     "output_type": "execute_result"
    }
   ],
   "source": [
    "model.best_params_"
   ]
  },
  {
   "cell_type": "code",
   "execution_count": 10,
   "id": "9b9581b8",
   "metadata": {},
   "outputs": [
    {
     "data": {
      "text/plain": [
       "(1.0, 0.8708333333333333)"
      ]
     },
     "execution_count": 10,
     "metadata": {},
     "output_type": "execute_result"
    }
   ],
   "source": [
    "model.score(X_train, y_train), model.score(X_test, y_test)"
   ]
  },
  {
   "cell_type": "code",
   "execution_count": null,
   "id": "770b0559",
   "metadata": {},
   "outputs": [],
   "source": [
    "preds = model.predict(X_test)\n",
    "acc = (y_test == preds).astype(int)\n",
    "acc.mean()\n",
    "acc[20:40]"
   ]
  },
  {
   "cell_type": "code",
   "execution_count": null,
   "id": "454a44e2",
   "metadata": {},
   "outputs": [],
   "source": []
  }
 ],
 "metadata": {
  "interpreter": {
   "hash": "925d4c1607fcb9e3a32973e5ce298e0c2f07a0ec61041a15519129537ee2603d"
  },
  "kernelspec": {
   "display_name": "Python 3 (ipykernel)",
   "language": "python",
   "name": "python3"
  },
  "language_info": {
   "codemirror_mode": {
    "name": "ipython",
    "version": 3
   },
   "file_extension": ".py",
   "mimetype": "text/x-python",
   "name": "python",
   "nbconvert_exporter": "python",
   "pygments_lexer": "ipython3",
   "version": "3.9.7"
  },
  "varInspector": {
   "cols": {
    "lenName": 16,
    "lenType": 16,
    "lenVar": 40
   },
   "kernels_config": {
    "python": {
     "delete_cmd_postfix": "",
     "delete_cmd_prefix": "del ",
     "library": "var_list.py",
     "varRefreshCmd": "print(var_dic_list())"
    },
    "r": {
     "delete_cmd_postfix": ") ",
     "delete_cmd_prefix": "rm(",
     "library": "var_list.r",
     "varRefreshCmd": "cat(var_dic_list()) "
    }
   },
   "types_to_exclude": [
    "module",
    "function",
    "builtin_function_or_method",
    "instance",
    "_Feature"
   ],
   "window_display": false
  }
 },
 "nbformat": 4,
 "nbformat_minor": 5
}
